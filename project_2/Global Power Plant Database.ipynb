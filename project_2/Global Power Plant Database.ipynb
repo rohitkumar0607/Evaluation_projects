{
 "cells": [
  {
   "cell_type": "code",
   "execution_count": 1,
   "id": "7f8a587c",
   "metadata": {},
   "outputs": [],
   "source": [
    "import pandas as pd\n",
    "import numpy as np\n",
    "import seaborn as sns\n",
    "import matplotlib.pyplot as plt\n",
    "import warnings\n",
    "warnings.filterwarnings('ignore')"
   ]
  },
  {
   "cell_type": "markdown",
   "id": "69259c29",
   "metadata": {},
   "source": [
    "# Project Description"
   ]
  },
  {
   "cell_type": "markdown",
   "id": "57770ac8",
   "metadata": {},
   "source": [
    "The Global Power Plant Database is a comprehensive, open source database of power plants around the world. It centralizes power plant data to make it easier to navigate, compare and draw insights for one’s own analysis. The database covers approximately 35,000 power plants from 167 countries and includes thermal plants (e.g. coal, gas, oil, nuclear, biomass, waste, geothermal) and renewables (e.g. hydro, wind, solar). Each power plant is geolocated and entries contain information on plant capacity, generation, ownership, and fuel type. It will be continuously updated as data becomes available."
   ]
  },
  {
   "cell_type": "markdown",
   "id": "a827d2cf",
   "metadata": {},
   "source": [
    "### Key attributes of the database"
   ]
  },
  {
   "cell_type": "markdown",
   "id": "78420a37",
   "metadata": {},
   "source": [
    "The database includes the following indicators:\n",
    "\t\n",
    "•\t`country` (text): 3 character country code corresponding to the ISO 3166-1 alpha-3 specification [5]  \n",
    "•\t`country_long` (text): longer form of the country designation  \n",
    "•\t`name` (text): name or title of the power plant, generally in Romanized form  \n",
    "•\t`gppd_idnr` (text): 10 or 12 character identifier for the power plant  \n",
    "•\t`capacity_mw` (number): electrical generating capacity in megawatts  \n",
    "•\t`latitude` (number): geolocation in decimal degrees; WGS84 (EPSG:4326)  \n",
    "•\t`longitude` (number): geolocation in decimal degrees; WGS84 (EPSG:4326)  \n",
    "•\t`primary_fuel` (text): energy source used in primary electricity generation or export  \n",
    "•\t`other_fuel1` (text): energy source used in electricity generation or export  \n",
    "•\t`other_fuel2` (text): energy source used in electricity generation or export  \n",
    "•\t`other_fuel3` (text): energy source used in electricity generation or export  \n",
    "•\t `commissioning_year` (number): year of plant operation, weighted by unit-capacity when data is available  \n",
    "•\t`owner` (text): majority shareholder of the power plant, generally in Romanized form  \n",
    "•\t`source` (text): entity reporting the data; could be an organization, report, or document, generally in Romanized form  \n",
    "•\t`url` (text): web document corresponding to the `source` field  \n",
    "•\t`geolocation_source` (text): attribution for geolocation information  \n",
    "•\t`wepp_id` (text): a reference to a unique plant identifier in the widely-used PLATTS-WEPP database.  \n",
    "•\t`year_of_capacity_data` (number): year the capacity information was reported  \n",
    "•\t`generation_gwh_2013` (number): electricity generation in gigawatt-hours reported for the year 2013  \n",
    "•\t`generation_gwh_2014` (number): electricity generation in gigawatt-hours reported for the year 2014  \n",
    "•\t`generation_gwh_2015` (number): electricity generation in gigawatt-hours reported for the year 2015  \n",
    "•\t`generation_gwh_2016` (number): electricity generation in gigawatt-hours reported for the year 2016  \n",
    "•\t`generation_gwh_2017` (number): electricity generation in gigawatt-hours reported for the year 2017  \n",
    "•\t`generation_gwh_2018` (number): electricity generation in gigawatt-hours reported for the year 2018  \n",
    "•\t`generation_gwh_2019` (number): electricity generation in gigawatt-hours reported for the year 2019  \n",
    "•\t`generation_data_source` (text): attribution for the reported generation information  \n",
    "•\t`estimated_generation_gwh_2013` (number): estimated electricity generation in gigawatt-hours for the year 2013  \n",
    "•\t`estimated_generation_gwh_2014` (number): estimated electricity generation in gigawatt-hours for the year 2014   \n",
    "•\t`estimated_generation_gwh_2015` (number): estimated electricity generation in gigawatt-hours for the year 2015   \n",
    "•\t`estimated_generation_gwh_2016` (number): estimated electricity generation in gigawatt-hours for the year 2016   \n",
    "•\t`estimated_generation_gwh_2017` (number): estimated electricity generation in gigawatt-hours for the year 2017   \n",
    "•\t'estimated_generation_note_2013` (text): label of the model/method used to estimate generation for the year 2013  \n",
    "•\t`estimated_generation_note_2014` (text): label of the model/method used to estimate generation for the year 2014   \n",
    "•\t`estimated_generation_note_2015` (text): label of the model/method used to estimate generation for the year 2015  \n",
    "•\t`estimated_generation_note_2016` (text): label of the model/method used to estimate generation for the year 2016  \n",
    "•\t`estimated_generation_note_2017` (text): label of the model/method used to estimate generation for the year 2017   \n",
    "Fuel Type Aggregation  \n",
    "We define the \"Fuel Type\" attribute of our database based on common fuel categories.   \n",
    "Prediction :   Make two prediction  1) Primary Fuel    2) capacity_mw   \n"
   ]
  },
  {
   "cell_type": "markdown",
   "id": "1b435ef4",
   "metadata": {},
   "source": [
    "# Importing Dataset"
   ]
  },
  {
   "cell_type": "code",
   "execution_count": 2,
   "id": "8e485eb9",
   "metadata": {},
   "outputs": [
    {
     "data": {
      "text/html": [
       "<div>\n",
       "<style scoped>\n",
       "    .dataframe tbody tr th:only-of-type {\n",
       "        vertical-align: middle;\n",
       "    }\n",
       "\n",
       "    .dataframe tbody tr th {\n",
       "        vertical-align: top;\n",
       "    }\n",
       "\n",
       "    .dataframe thead th {\n",
       "        text-align: right;\n",
       "    }\n",
       "</style>\n",
       "<table border=\"1\" class=\"dataframe\">\n",
       "  <thead>\n",
       "    <tr style=\"text-align: right;\">\n",
       "      <th></th>\n",
       "      <th>country</th>\n",
       "      <th>country_long</th>\n",
       "      <th>name</th>\n",
       "      <th>gppd_idnr</th>\n",
       "      <th>capacity_mw</th>\n",
       "      <th>latitude</th>\n",
       "      <th>longitude</th>\n",
       "      <th>primary_fuel</th>\n",
       "      <th>other_fuel1</th>\n",
       "      <th>other_fuel2</th>\n",
       "      <th>...</th>\n",
       "      <th>year_of_capacity_data</th>\n",
       "      <th>generation_gwh_2013</th>\n",
       "      <th>generation_gwh_2014</th>\n",
       "      <th>generation_gwh_2015</th>\n",
       "      <th>generation_gwh_2016</th>\n",
       "      <th>generation_gwh_2017</th>\n",
       "      <th>generation_gwh_2018</th>\n",
       "      <th>generation_gwh_2019</th>\n",
       "      <th>generation_data_source</th>\n",
       "      <th>estimated_generation_gwh</th>\n",
       "    </tr>\n",
       "  </thead>\n",
       "  <tbody>\n",
       "    <tr>\n",
       "      <th>0</th>\n",
       "      <td>IND</td>\n",
       "      <td>India</td>\n",
       "      <td>ACME Solar Tower</td>\n",
       "      <td>WRI1020239</td>\n",
       "      <td>2.5</td>\n",
       "      <td>28.1839</td>\n",
       "      <td>73.2407</td>\n",
       "      <td>Solar</td>\n",
       "      <td>NaN</td>\n",
       "      <td>NaN</td>\n",
       "      <td>...</td>\n",
       "      <td>NaN</td>\n",
       "      <td>NaN</td>\n",
       "      <td>NaN</td>\n",
       "      <td>NaN</td>\n",
       "      <td>NaN</td>\n",
       "      <td>NaN</td>\n",
       "      <td>NaN</td>\n",
       "      <td>NaN</td>\n",
       "      <td>NaN</td>\n",
       "      <td>NaN</td>\n",
       "    </tr>\n",
       "    <tr>\n",
       "      <th>1</th>\n",
       "      <td>IND</td>\n",
       "      <td>India</td>\n",
       "      <td>ADITYA CEMENT WORKS</td>\n",
       "      <td>WRI1019881</td>\n",
       "      <td>98.0</td>\n",
       "      <td>24.7663</td>\n",
       "      <td>74.6090</td>\n",
       "      <td>Coal</td>\n",
       "      <td>NaN</td>\n",
       "      <td>NaN</td>\n",
       "      <td>...</td>\n",
       "      <td>NaN</td>\n",
       "      <td>NaN</td>\n",
       "      <td>NaN</td>\n",
       "      <td>NaN</td>\n",
       "      <td>NaN</td>\n",
       "      <td>NaN</td>\n",
       "      <td>NaN</td>\n",
       "      <td>NaN</td>\n",
       "      <td>NaN</td>\n",
       "      <td>NaN</td>\n",
       "    </tr>\n",
       "    <tr>\n",
       "      <th>2</th>\n",
       "      <td>IND</td>\n",
       "      <td>India</td>\n",
       "      <td>AES Saurashtra Windfarms</td>\n",
       "      <td>WRI1026669</td>\n",
       "      <td>39.2</td>\n",
       "      <td>21.9038</td>\n",
       "      <td>69.3732</td>\n",
       "      <td>Wind</td>\n",
       "      <td>NaN</td>\n",
       "      <td>NaN</td>\n",
       "      <td>...</td>\n",
       "      <td>NaN</td>\n",
       "      <td>NaN</td>\n",
       "      <td>NaN</td>\n",
       "      <td>NaN</td>\n",
       "      <td>NaN</td>\n",
       "      <td>NaN</td>\n",
       "      <td>NaN</td>\n",
       "      <td>NaN</td>\n",
       "      <td>NaN</td>\n",
       "      <td>NaN</td>\n",
       "    </tr>\n",
       "    <tr>\n",
       "      <th>3</th>\n",
       "      <td>IND</td>\n",
       "      <td>India</td>\n",
       "      <td>AGARTALA GT</td>\n",
       "      <td>IND0000001</td>\n",
       "      <td>135.0</td>\n",
       "      <td>23.8712</td>\n",
       "      <td>91.3602</td>\n",
       "      <td>Gas</td>\n",
       "      <td>NaN</td>\n",
       "      <td>NaN</td>\n",
       "      <td>...</td>\n",
       "      <td>2019.0</td>\n",
       "      <td>NaN</td>\n",
       "      <td>617.789264</td>\n",
       "      <td>843.747000</td>\n",
       "      <td>886.004428</td>\n",
       "      <td>663.774500</td>\n",
       "      <td>626.239128</td>\n",
       "      <td>NaN</td>\n",
       "      <td>Central Electricity Authority</td>\n",
       "      <td>NaN</td>\n",
       "    </tr>\n",
       "    <tr>\n",
       "      <th>4</th>\n",
       "      <td>IND</td>\n",
       "      <td>India</td>\n",
       "      <td>AKALTARA TPP</td>\n",
       "      <td>IND0000002</td>\n",
       "      <td>1800.0</td>\n",
       "      <td>21.9603</td>\n",
       "      <td>82.4091</td>\n",
       "      <td>Coal</td>\n",
       "      <td>Oil</td>\n",
       "      <td>NaN</td>\n",
       "      <td>...</td>\n",
       "      <td>2019.0</td>\n",
       "      <td>NaN</td>\n",
       "      <td>3035.550000</td>\n",
       "      <td>5916.370000</td>\n",
       "      <td>6243.000000</td>\n",
       "      <td>5385.579736</td>\n",
       "      <td>7279.000000</td>\n",
       "      <td>NaN</td>\n",
       "      <td>Central Electricity Authority</td>\n",
       "      <td>NaN</td>\n",
       "    </tr>\n",
       "    <tr>\n",
       "      <th>...</th>\n",
       "      <td>...</td>\n",
       "      <td>...</td>\n",
       "      <td>...</td>\n",
       "      <td>...</td>\n",
       "      <td>...</td>\n",
       "      <td>...</td>\n",
       "      <td>...</td>\n",
       "      <td>...</td>\n",
       "      <td>...</td>\n",
       "      <td>...</td>\n",
       "      <td>...</td>\n",
       "      <td>...</td>\n",
       "      <td>...</td>\n",
       "      <td>...</td>\n",
       "      <td>...</td>\n",
       "      <td>...</td>\n",
       "      <td>...</td>\n",
       "      <td>...</td>\n",
       "      <td>...</td>\n",
       "      <td>...</td>\n",
       "      <td>...</td>\n",
       "    </tr>\n",
       "    <tr>\n",
       "      <th>902</th>\n",
       "      <td>IND</td>\n",
       "      <td>India</td>\n",
       "      <td>YERMARUS TPP</td>\n",
       "      <td>IND0000513</td>\n",
       "      <td>1600.0</td>\n",
       "      <td>16.2949</td>\n",
       "      <td>77.3568</td>\n",
       "      <td>Coal</td>\n",
       "      <td>Oil</td>\n",
       "      <td>NaN</td>\n",
       "      <td>...</td>\n",
       "      <td>2019.0</td>\n",
       "      <td>NaN</td>\n",
       "      <td>NaN</td>\n",
       "      <td>0.994875</td>\n",
       "      <td>233.596650</td>\n",
       "      <td>865.400000</td>\n",
       "      <td>686.500000</td>\n",
       "      <td>NaN</td>\n",
       "      <td>Central Electricity Authority</td>\n",
       "      <td>NaN</td>\n",
       "    </tr>\n",
       "    <tr>\n",
       "      <th>903</th>\n",
       "      <td>IND</td>\n",
       "      <td>India</td>\n",
       "      <td>Yelesandra Solar Power Plant</td>\n",
       "      <td>WRI1026222</td>\n",
       "      <td>3.0</td>\n",
       "      <td>12.8932</td>\n",
       "      <td>78.1654</td>\n",
       "      <td>Solar</td>\n",
       "      <td>NaN</td>\n",
       "      <td>NaN</td>\n",
       "      <td>...</td>\n",
       "      <td>NaN</td>\n",
       "      <td>NaN</td>\n",
       "      <td>NaN</td>\n",
       "      <td>NaN</td>\n",
       "      <td>NaN</td>\n",
       "      <td>NaN</td>\n",
       "      <td>NaN</td>\n",
       "      <td>NaN</td>\n",
       "      <td>NaN</td>\n",
       "      <td>NaN</td>\n",
       "    </tr>\n",
       "    <tr>\n",
       "      <th>904</th>\n",
       "      <td>IND</td>\n",
       "      <td>India</td>\n",
       "      <td>Yelisirur wind power project</td>\n",
       "      <td>WRI1026776</td>\n",
       "      <td>25.5</td>\n",
       "      <td>15.2758</td>\n",
       "      <td>75.5811</td>\n",
       "      <td>Wind</td>\n",
       "      <td>NaN</td>\n",
       "      <td>NaN</td>\n",
       "      <td>...</td>\n",
       "      <td>NaN</td>\n",
       "      <td>NaN</td>\n",
       "      <td>NaN</td>\n",
       "      <td>NaN</td>\n",
       "      <td>NaN</td>\n",
       "      <td>NaN</td>\n",
       "      <td>NaN</td>\n",
       "      <td>NaN</td>\n",
       "      <td>NaN</td>\n",
       "      <td>NaN</td>\n",
       "    </tr>\n",
       "    <tr>\n",
       "      <th>905</th>\n",
       "      <td>IND</td>\n",
       "      <td>India</td>\n",
       "      <td>ZAWAR MINES</td>\n",
       "      <td>WRI1019901</td>\n",
       "      <td>80.0</td>\n",
       "      <td>24.3500</td>\n",
       "      <td>73.7477</td>\n",
       "      <td>Coal</td>\n",
       "      <td>NaN</td>\n",
       "      <td>NaN</td>\n",
       "      <td>...</td>\n",
       "      <td>NaN</td>\n",
       "      <td>NaN</td>\n",
       "      <td>NaN</td>\n",
       "      <td>NaN</td>\n",
       "      <td>NaN</td>\n",
       "      <td>NaN</td>\n",
       "      <td>NaN</td>\n",
       "      <td>NaN</td>\n",
       "      <td>NaN</td>\n",
       "      <td>NaN</td>\n",
       "    </tr>\n",
       "    <tr>\n",
       "      <th>906</th>\n",
       "      <td>IND</td>\n",
       "      <td>India</td>\n",
       "      <td>iEnergy Theni Wind Farm</td>\n",
       "      <td>WRI1026761</td>\n",
       "      <td>16.5</td>\n",
       "      <td>9.9344</td>\n",
       "      <td>77.4768</td>\n",
       "      <td>Wind</td>\n",
       "      <td>NaN</td>\n",
       "      <td>NaN</td>\n",
       "      <td>...</td>\n",
       "      <td>NaN</td>\n",
       "      <td>NaN</td>\n",
       "      <td>NaN</td>\n",
       "      <td>NaN</td>\n",
       "      <td>NaN</td>\n",
       "      <td>NaN</td>\n",
       "      <td>NaN</td>\n",
       "      <td>NaN</td>\n",
       "      <td>NaN</td>\n",
       "      <td>NaN</td>\n",
       "    </tr>\n",
       "  </tbody>\n",
       "</table>\n",
       "<p>907 rows × 27 columns</p>\n",
       "</div>"
      ],
      "text/plain": [
       "    country country_long                          name   gppd_idnr  \\\n",
       "0       IND        India              ACME Solar Tower  WRI1020239   \n",
       "1       IND        India           ADITYA CEMENT WORKS  WRI1019881   \n",
       "2       IND        India      AES Saurashtra Windfarms  WRI1026669   \n",
       "3       IND        India                   AGARTALA GT  IND0000001   \n",
       "4       IND        India                  AKALTARA TPP  IND0000002   \n",
       "..      ...          ...                           ...         ...   \n",
       "902     IND        India                  YERMARUS TPP  IND0000513   \n",
       "903     IND        India  Yelesandra Solar Power Plant  WRI1026222   \n",
       "904     IND        India  Yelisirur wind power project  WRI1026776   \n",
       "905     IND        India                   ZAWAR MINES  WRI1019901   \n",
       "906     IND        India       iEnergy Theni Wind Farm  WRI1026761   \n",
       "\n",
       "     capacity_mw  latitude  longitude primary_fuel other_fuel1 other_fuel2  \\\n",
       "0            2.5   28.1839    73.2407        Solar         NaN         NaN   \n",
       "1           98.0   24.7663    74.6090         Coal         NaN         NaN   \n",
       "2           39.2   21.9038    69.3732         Wind         NaN         NaN   \n",
       "3          135.0   23.8712    91.3602          Gas         NaN         NaN   \n",
       "4         1800.0   21.9603    82.4091         Coal         Oil         NaN   \n",
       "..           ...       ...        ...          ...         ...         ...   \n",
       "902       1600.0   16.2949    77.3568         Coal         Oil         NaN   \n",
       "903          3.0   12.8932    78.1654        Solar         NaN         NaN   \n",
       "904         25.5   15.2758    75.5811         Wind         NaN         NaN   \n",
       "905         80.0   24.3500    73.7477         Coal         NaN         NaN   \n",
       "906         16.5    9.9344    77.4768         Wind         NaN         NaN   \n",
       "\n",
       "     ...  year_of_capacity_data  generation_gwh_2013 generation_gwh_2014  \\\n",
       "0    ...                    NaN                  NaN                 NaN   \n",
       "1    ...                    NaN                  NaN                 NaN   \n",
       "2    ...                    NaN                  NaN                 NaN   \n",
       "3    ...                 2019.0                  NaN          617.789264   \n",
       "4    ...                 2019.0                  NaN         3035.550000   \n",
       "..   ...                    ...                  ...                 ...   \n",
       "902  ...                 2019.0                  NaN                 NaN   \n",
       "903  ...                    NaN                  NaN                 NaN   \n",
       "904  ...                    NaN                  NaN                 NaN   \n",
       "905  ...                    NaN                  NaN                 NaN   \n",
       "906  ...                    NaN                  NaN                 NaN   \n",
       "\n",
       "    generation_gwh_2015 generation_gwh_2016 generation_gwh_2017  \\\n",
       "0                   NaN                 NaN                 NaN   \n",
       "1                   NaN                 NaN                 NaN   \n",
       "2                   NaN                 NaN                 NaN   \n",
       "3            843.747000          886.004428          663.774500   \n",
       "4           5916.370000         6243.000000         5385.579736   \n",
       "..                  ...                 ...                 ...   \n",
       "902            0.994875          233.596650          865.400000   \n",
       "903                 NaN                 NaN                 NaN   \n",
       "904                 NaN                 NaN                 NaN   \n",
       "905                 NaN                 NaN                 NaN   \n",
       "906                 NaN                 NaN                 NaN   \n",
       "\n",
       "     generation_gwh_2018  generation_gwh_2019         generation_data_source  \\\n",
       "0                    NaN                  NaN                            NaN   \n",
       "1                    NaN                  NaN                            NaN   \n",
       "2                    NaN                  NaN                            NaN   \n",
       "3             626.239128                  NaN  Central Electricity Authority   \n",
       "4            7279.000000                  NaN  Central Electricity Authority   \n",
       "..                   ...                  ...                            ...   \n",
       "902           686.500000                  NaN  Central Electricity Authority   \n",
       "903                  NaN                  NaN                            NaN   \n",
       "904                  NaN                  NaN                            NaN   \n",
       "905                  NaN                  NaN                            NaN   \n",
       "906                  NaN                  NaN                            NaN   \n",
       "\n",
       "     estimated_generation_gwh  \n",
       "0                         NaN  \n",
       "1                         NaN  \n",
       "2                         NaN  \n",
       "3                         NaN  \n",
       "4                         NaN  \n",
       "..                        ...  \n",
       "902                       NaN  \n",
       "903                       NaN  \n",
       "904                       NaN  \n",
       "905                       NaN  \n",
       "906                       NaN  \n",
       "\n",
       "[907 rows x 27 columns]"
      ]
     },
     "execution_count": 2,
     "metadata": {},
     "output_type": "execute_result"
    }
   ],
   "source": [
    "df=pd.read_csv(r'E:\\fliprobo technologies\\projects\\Evaluation projects\\Evaluation projects 2nd\\Global_Power_Plant_Database_IND.csv')\n",
    "df"
   ]
  },
  {
   "cell_type": "markdown",
   "id": "ffaad3da",
   "metadata": {},
   "source": [
    "# Exploratory Data analysis (EDA)"
   ]
  },
  {
   "cell_type": "code",
   "execution_count": 3,
   "id": "025d9830",
   "metadata": {},
   "outputs": [
    {
     "data": {
      "text/plain": [
       "(907, 27)"
      ]
     },
     "execution_count": 3,
     "metadata": {},
     "output_type": "execute_result"
    }
   ],
   "source": [
    "df.shape"
   ]
  },
  {
   "cell_type": "markdown",
   "id": "33b36f31",
   "metadata": {},
   "source": [
    "the dataset contains 907 rows and 27 columns.Out of which 1 is target variable(label,Dependent variable) and remaining 26 are independent variables(features,input variables)"
   ]
  },
  {
   "cell_type": "code",
   "execution_count": 4,
   "id": "1d115f75",
   "metadata": {},
   "outputs": [
    {
     "data": {
      "text/plain": [
       "['country',\n",
       " 'country_long',\n",
       " 'name',\n",
       " 'gppd_idnr',\n",
       " 'capacity_mw',\n",
       " 'latitude',\n",
       " 'longitude',\n",
       " 'primary_fuel',\n",
       " 'other_fuel1',\n",
       " 'other_fuel2',\n",
       " 'other_fuel3',\n",
       " 'commissioning_year',\n",
       " 'owner',\n",
       " 'source',\n",
       " 'url',\n",
       " 'geolocation_source',\n",
       " 'wepp_id',\n",
       " 'year_of_capacity_data',\n",
       " 'generation_gwh_2013',\n",
       " 'generation_gwh_2014',\n",
       " 'generation_gwh_2015',\n",
       " 'generation_gwh_2016',\n",
       " 'generation_gwh_2017',\n",
       " 'generation_gwh_2018',\n",
       " 'generation_gwh_2019',\n",
       " 'generation_data_source',\n",
       " 'estimated_generation_gwh']"
      ]
     },
     "execution_count": 4,
     "metadata": {},
     "output_type": "execute_result"
    }
   ],
   "source": [
    "# checking the column of the dataset and we are storeing it in the list \n",
    "df.columns.tolist()"
   ]
  },
  {
   "cell_type": "markdown",
   "id": "1478a905",
   "metadata": {},
   "source": [
    "# checking the null values"
   ]
  },
  {
   "cell_type": "code",
   "execution_count": 5,
   "id": "821247a3",
   "metadata": {},
   "outputs": [
    {
     "data": {
      "text/plain": [
       "country                       0\n",
       "country_long                  0\n",
       "name                          0\n",
       "gppd_idnr                     0\n",
       "capacity_mw                   0\n",
       "latitude                     46\n",
       "longitude                    46\n",
       "primary_fuel                  0\n",
       "other_fuel1                 709\n",
       "other_fuel2                 906\n",
       "other_fuel3                 907\n",
       "commissioning_year          380\n",
       "owner                       565\n",
       "source                        0\n",
       "url                           0\n",
       "geolocation_source           19\n",
       "wepp_id                     907\n",
       "year_of_capacity_data       388\n",
       "generation_gwh_2013         907\n",
       "generation_gwh_2014         509\n",
       "generation_gwh_2015         485\n",
       "generation_gwh_2016         473\n",
       "generation_gwh_2017         467\n",
       "generation_gwh_2018         459\n",
       "generation_gwh_2019         907\n",
       "generation_data_source      458\n",
       "estimated_generation_gwh    907\n",
       "dtype: int64"
      ]
     },
     "execution_count": 5,
     "metadata": {},
     "output_type": "execute_result"
    }
   ],
   "source": [
    "df.isnull().sum()"
   ]
  },
  {
   "cell_type": "markdown",
   "id": "3da256c4",
   "metadata": {},
   "source": [
    "there are null values persent in latitude,longitude,other_fuel1,other_fuel2,other_fuel3,commissioning_year,owner\n",
    ",geolocation_source,wepp_id,year_of_capacity_data,generation_gwh_2013,generation_gwh_2014,generation_gwh_2015,\n",
    "generation_gwh_2016,generation_gwh_2017,generation_gwh_2018,generation_gwh_2019,generation_data_source,estimated_generation_gwh"
   ]
  },
  {
   "cell_type": "code",
   "execution_count": 6,
   "id": "74e5a5b4",
   "metadata": {},
   "outputs": [
    {
     "name": "stdout",
     "output_type": "stream",
     "text": [
      "<class 'pandas.core.frame.DataFrame'>\n",
      "RangeIndex: 907 entries, 0 to 906\n",
      "Data columns (total 27 columns):\n",
      " #   Column                    Non-Null Count  Dtype  \n",
      "---  ------                    --------------  -----  \n",
      " 0   country                   907 non-null    object \n",
      " 1   country_long              907 non-null    object \n",
      " 2   name                      907 non-null    object \n",
      " 3   gppd_idnr                 907 non-null    object \n",
      " 4   capacity_mw               907 non-null    float64\n",
      " 5   latitude                  861 non-null    float64\n",
      " 6   longitude                 861 non-null    float64\n",
      " 7   primary_fuel              907 non-null    object \n",
      " 8   other_fuel1               198 non-null    object \n",
      " 9   other_fuel2               1 non-null      object \n",
      " 10  other_fuel3               0 non-null      float64\n",
      " 11  commissioning_year        527 non-null    float64\n",
      " 12  owner                     342 non-null    object \n",
      " 13  source                    907 non-null    object \n",
      " 14  url                       907 non-null    object \n",
      " 15  geolocation_source        888 non-null    object \n",
      " 16  wepp_id                   0 non-null      float64\n",
      " 17  year_of_capacity_data     519 non-null    float64\n",
      " 18  generation_gwh_2013       0 non-null      float64\n",
      " 19  generation_gwh_2014       398 non-null    float64\n",
      " 20  generation_gwh_2015       422 non-null    float64\n",
      " 21  generation_gwh_2016       434 non-null    float64\n",
      " 22  generation_gwh_2017       440 non-null    float64\n",
      " 23  generation_gwh_2018       448 non-null    float64\n",
      " 24  generation_gwh_2019       0 non-null      float64\n",
      " 25  generation_data_source    449 non-null    object \n",
      " 26  estimated_generation_gwh  0 non-null      float64\n",
      "dtypes: float64(15), object(12)\n",
      "memory usage: 191.4+ KB\n"
     ]
    }
   ],
   "source": [
    "df.info()"
   ]
  },
  {
   "cell_type": "markdown",
   "id": "b05a0cee",
   "metadata": {},
   "source": [
    "on checking the info we found that there are null values present in most of the columns. data type of the columns are float and object "
   ]
  },
  {
   "cell_type": "code",
   "execution_count": 7,
   "id": "45a75ef0",
   "metadata": {},
   "outputs": [
    {
     "name": "stdout",
     "output_type": "stream",
     "text": [
      "IND    907\n",
      "Name: country, dtype: int64\n",
      "\n",
      "\n",
      "India    907\n",
      "Name: country_long, dtype: int64\n",
      "\n",
      "\n",
      "ACME Solar Tower           1\n",
      "RAICHUR                    1\n",
      "PRYAGRAJ (BARA) TPP        1\n",
      "PULICHINTALA               1\n",
      "PUNE MILL                  1\n",
      "                          ..\n",
      "KADANA                     1\n",
      "KADRA                      1\n",
      "KAHALGAON                  1\n",
      "KAIGA                      1\n",
      "iEnergy Theni Wind Farm    1\n",
      "Name: name, Length: 907, dtype: int64\n",
      "\n",
      "\n",
      "WRI1020239    1\n",
      "IND0000356    1\n",
      "IND0000346    1\n",
      "IND0000523    1\n",
      "WRI1019978    1\n",
      "             ..\n",
      "IND0000167    1\n",
      "IND0000168    1\n",
      "IND0000169    1\n",
      "IND0000170    1\n",
      "WRI1026761    1\n",
      "Name: gppd_idnr, Length: 907, dtype: int64\n",
      "\n",
      "\n",
      "5.0       39\n",
      "10.0      22\n",
      "600.0     20\n",
      "15.0      20\n",
      "1200.0    19\n",
      "          ..\n",
      "291.0      1\n",
      "645.0      1\n",
      "41.4       1\n",
      "17.5       1\n",
      "106.6      1\n",
      "Name: capacity_mw, Length: 361, dtype: int64\n",
      "\n",
      "\n",
      "19.0004    3\n",
      "24.1917    3\n",
      "24.8747    2\n",
      "13.2450    2\n",
      "11.5336    2\n",
      "          ..\n",
      "22.7554    1\n",
      "27.1598    1\n",
      "17.2970    1\n",
      "20.8772    1\n",
      "9.9344     1\n",
      "Name: latitude, Length: 836, dtype: int64\n",
      "\n",
      "\n",
      "71.6917    4\n",
      "75.8988    3\n",
      "71.6918    3\n",
      "72.8983    3\n",
      "81.2875    3\n",
      "          ..\n",
      "70.3961    1\n",
      "74.2393    1\n",
      "77.0435    1\n",
      "73.8254    1\n",
      "77.4768    1\n",
      "Name: longitude, Length: 827, dtype: int64\n",
      "\n",
      "\n",
      "Coal       258\n",
      "Hydro      251\n",
      "Solar      127\n",
      "Wind       123\n",
      "Gas         69\n",
      "Biomass     50\n",
      "Oil         20\n",
      "Nuclear      9\n",
      "Name: primary_fuel, dtype: int64\n",
      "\n",
      "\n",
      "Oil             195\n",
      "Gas               2\n",
      "Cogeneration      1\n",
      "Name: other_fuel1, dtype: int64\n",
      "\n",
      "\n",
      "Oil    1\n",
      "Name: other_fuel2, dtype: int64\n",
      "\n",
      "\n",
      "Series([], Name: other_fuel3, dtype: int64)\n",
      "\n",
      "\n",
      "2015.0    28\n",
      "2013.0    25\n",
      "2012.0    23\n",
      "2016.0    19\n",
      "2010.0    18\n",
      "          ..\n",
      "1946.0     1\n",
      "1956.0     1\n",
      "1937.0     1\n",
      "1949.0     1\n",
      "1953.0     1\n",
      "Name: commissioning_year, Length: 73, dtype: int64\n",
      "\n",
      "\n",
      "Acc Acc ltd                                                    4\n",
      "Sterling Agro Industries ltd.                                  4\n",
      "Jk Cement ltd                                                  4\n",
      "SWPPL                                                          3\n",
      "Jaypee Ltd jccl)                                               3\n",
      "                                                              ..\n",
      "Sunkon Energy Private Limited                                  1\n",
      "West Bengal Energy Development Corporation Limited (WBEDCL)    1\n",
      "Energy Infratech Private Limited                               1\n",
      "K. N. Ram                                                      1\n",
      "iEnergy Wind Farms                                             1\n",
      "Name: owner, Length: 280, dtype: int64\n",
      "\n",
      "\n",
      "Central Electricity Authority                                  519\n",
      "CDM                                                            124\n",
      "Lancosola                                                       10\n",
      "National Renewable Energy Laboratory                             8\n",
      "National Thermal Power Corporation (NTPC)                        6\n",
      "                                                              ... \n",
      "Harsha Engineers Limited                                         1\n",
      "Godawari Energy ltd                                              1\n",
      "Sunkon Energy Private Limited                                    1\n",
      "West Bengal Energy Development Corporation Limited (WBEDCL)      1\n",
      "Yashwantrao Krishna ssk                                          1\n",
      "Name: source, Length: 191, dtype: int64\n",
      "\n",
      "\n",
      "http://www.cea.nic.in/                                                              519\n",
      "http://www.lancosolar.com/pdfs/rajasthan-pv-project-details.pdf                       7\n",
      "http://www.ntpc.co.in                                                                 6\n",
      "http://viainfotech.biz/Biomass/theme5/document/green_market/REC-project-list.pdf      5\n",
      "http://www.mahaurja.com/PDF/PG2_GridConnSPPCommissioned.pdf                           4\n",
      "                                                                                   ... \n",
      "https://cdm.unfccc.int/Projects/DB/LRQA%20Ltd1346322352.66/view                       1\n",
      "https://cdm.unfccc.int/Projects/DB/DNV-CUK1351166669.28/view                          1\n",
      "http://harshaengineers.com                                                            1\n",
      "http://hiragroup.com/companies/godawari-green-energy-limited/                         1\n",
      "https://cdm.unfccc.int/Projects/DB/RWTUV1345031355.85/view                            1\n",
      "Name: url, Length: 304, dtype: int64\n",
      "\n",
      "\n",
      "WRI                                     765\n",
      "Industry About                          119\n",
      "National Renewable Energy Laboratory      4\n",
      "Name: geolocation_source, dtype: int64\n",
      "\n",
      "\n",
      "Series([], Name: wepp_id, dtype: int64)\n",
      "\n",
      "\n",
      "2019.0    519\n",
      "Name: year_of_capacity_data, dtype: int64\n",
      "\n",
      "\n",
      "Series([], Name: generation_gwh_2013, dtype: int64)\n",
      "\n",
      "\n",
      "0.000000       28\n",
      "617.789264      1\n",
      "359.139800      1\n",
      "7368.390000     1\n",
      "9983.018000     1\n",
      "               ..\n",
      "4436.700000     1\n",
      "1154.342000     1\n",
      "451.053400      1\n",
      "3239.142900     1\n",
      "3194.359820     1\n",
      "Name: generation_gwh_2014, Length: 371, dtype: int64\n",
      "\n",
      "\n",
      "0.000000        27\n",
      "843.747000       1\n",
      "1497.798000      1\n",
      "10422.690000     1\n",
      "240.799900       1\n",
      "                ..\n",
      "6996.000000      1\n",
      "14192.000000     1\n",
      "219.377600       1\n",
      "288.460450       1\n",
      "0.994875         1\n",
      "Name: generation_gwh_2015, Length: 396, dtype: int64\n",
      "\n",
      "\n",
      "0.000000       30\n",
      "8470.570000     2\n",
      "1511.000000     2\n",
      "886.004428      1\n",
      "90.644500       1\n",
      "               ..\n",
      "1338.095900     1\n",
      "131.021600      1\n",
      "6130.019928     1\n",
      "5931.490000     1\n",
      "233.596650      1\n",
      "Name: generation_gwh_2016, Length: 403, dtype: int64\n",
      "\n",
      "\n",
      "0.00000        32\n",
      "170.08530       2\n",
      "663.77450       1\n",
      "1632.36715      1\n",
      "272.73945       1\n",
      "               ..\n",
      "15177.00000     1\n",
      "191.94545       1\n",
      "307.37540       1\n",
      "382.43820       1\n",
      "865.40000       1\n",
      "Name: generation_gwh_2017, Length: 408, dtype: int64\n",
      "\n",
      "\n",
      "0.000000        39\n",
      "626.239128       1\n",
      "505.420200       1\n",
      "1098.450150      1\n",
      "17.213500        1\n",
      "                ..\n",
      "220.551700       1\n",
      "7321.267900      1\n",
      "6532.350000      1\n",
      "15305.220000     1\n",
      "686.500000       1\n",
      "Name: generation_gwh_2018, Length: 410, dtype: int64\n",
      "\n",
      "\n",
      "Series([], Name: generation_gwh_2019, dtype: int64)\n",
      "\n",
      "\n",
      "Central Electricity Authority    449\n",
      "Name: generation_data_source, dtype: int64\n",
      "\n",
      "\n",
      "Series([], Name: estimated_generation_gwh, dtype: int64)\n",
      "\n",
      "\n"
     ]
    }
   ],
   "source": [
    "# checking value counts of each column\n",
    "for i in df.columns:\n",
    "    print(df[i].value_counts())\n",
    "    print(\"\\n\")"
   ]
  },
  {
   "cell_type": "markdown",
   "id": "43b64821",
   "metadata": {},
   "source": [
    "# Dropping unwanted columns"
   ]
  },
  {
   "cell_type": "code",
   "execution_count": 8,
   "id": "d14e943f",
   "metadata": {},
   "outputs": [
    {
     "data": {
      "text/html": [
       "<div>\n",
       "<style scoped>\n",
       "    .dataframe tbody tr th:only-of-type {\n",
       "        vertical-align: middle;\n",
       "    }\n",
       "\n",
       "    .dataframe tbody tr th {\n",
       "        vertical-align: top;\n",
       "    }\n",
       "\n",
       "    .dataframe thead th {\n",
       "        text-align: right;\n",
       "    }\n",
       "</style>\n",
       "<table border=\"1\" class=\"dataframe\">\n",
       "  <thead>\n",
       "    <tr style=\"text-align: right;\">\n",
       "      <th></th>\n",
       "      <th>name</th>\n",
       "      <th>capacity_mw</th>\n",
       "      <th>latitude</th>\n",
       "      <th>longitude</th>\n",
       "      <th>primary_fuel</th>\n",
       "      <th>generation_gwh_2014</th>\n",
       "      <th>generation_gwh_2015</th>\n",
       "      <th>generation_gwh_2016</th>\n",
       "      <th>generation_gwh_2017</th>\n",
       "      <th>generation_gwh_2018</th>\n",
       "    </tr>\n",
       "  </thead>\n",
       "  <tbody>\n",
       "    <tr>\n",
       "      <th>0</th>\n",
       "      <td>ACME Solar Tower</td>\n",
       "      <td>2.5</td>\n",
       "      <td>28.1839</td>\n",
       "      <td>73.2407</td>\n",
       "      <td>Solar</td>\n",
       "      <td>NaN</td>\n",
       "      <td>NaN</td>\n",
       "      <td>NaN</td>\n",
       "      <td>NaN</td>\n",
       "      <td>NaN</td>\n",
       "    </tr>\n",
       "    <tr>\n",
       "      <th>1</th>\n",
       "      <td>ADITYA CEMENT WORKS</td>\n",
       "      <td>98.0</td>\n",
       "      <td>24.7663</td>\n",
       "      <td>74.6090</td>\n",
       "      <td>Coal</td>\n",
       "      <td>NaN</td>\n",
       "      <td>NaN</td>\n",
       "      <td>NaN</td>\n",
       "      <td>NaN</td>\n",
       "      <td>NaN</td>\n",
       "    </tr>\n",
       "    <tr>\n",
       "      <th>2</th>\n",
       "      <td>AES Saurashtra Windfarms</td>\n",
       "      <td>39.2</td>\n",
       "      <td>21.9038</td>\n",
       "      <td>69.3732</td>\n",
       "      <td>Wind</td>\n",
       "      <td>NaN</td>\n",
       "      <td>NaN</td>\n",
       "      <td>NaN</td>\n",
       "      <td>NaN</td>\n",
       "      <td>NaN</td>\n",
       "    </tr>\n",
       "    <tr>\n",
       "      <th>3</th>\n",
       "      <td>AGARTALA GT</td>\n",
       "      <td>135.0</td>\n",
       "      <td>23.8712</td>\n",
       "      <td>91.3602</td>\n",
       "      <td>Gas</td>\n",
       "      <td>617.789264</td>\n",
       "      <td>843.747000</td>\n",
       "      <td>886.004428</td>\n",
       "      <td>663.774500</td>\n",
       "      <td>626.239128</td>\n",
       "    </tr>\n",
       "    <tr>\n",
       "      <th>4</th>\n",
       "      <td>AKALTARA TPP</td>\n",
       "      <td>1800.0</td>\n",
       "      <td>21.9603</td>\n",
       "      <td>82.4091</td>\n",
       "      <td>Coal</td>\n",
       "      <td>3035.550000</td>\n",
       "      <td>5916.370000</td>\n",
       "      <td>6243.000000</td>\n",
       "      <td>5385.579736</td>\n",
       "      <td>7279.000000</td>\n",
       "    </tr>\n",
       "    <tr>\n",
       "      <th>...</th>\n",
       "      <td>...</td>\n",
       "      <td>...</td>\n",
       "      <td>...</td>\n",
       "      <td>...</td>\n",
       "      <td>...</td>\n",
       "      <td>...</td>\n",
       "      <td>...</td>\n",
       "      <td>...</td>\n",
       "      <td>...</td>\n",
       "      <td>...</td>\n",
       "    </tr>\n",
       "    <tr>\n",
       "      <th>902</th>\n",
       "      <td>YERMARUS TPP</td>\n",
       "      <td>1600.0</td>\n",
       "      <td>16.2949</td>\n",
       "      <td>77.3568</td>\n",
       "      <td>Coal</td>\n",
       "      <td>NaN</td>\n",
       "      <td>0.994875</td>\n",
       "      <td>233.596650</td>\n",
       "      <td>865.400000</td>\n",
       "      <td>686.500000</td>\n",
       "    </tr>\n",
       "    <tr>\n",
       "      <th>903</th>\n",
       "      <td>Yelesandra Solar Power Plant</td>\n",
       "      <td>3.0</td>\n",
       "      <td>12.8932</td>\n",
       "      <td>78.1654</td>\n",
       "      <td>Solar</td>\n",
       "      <td>NaN</td>\n",
       "      <td>NaN</td>\n",
       "      <td>NaN</td>\n",
       "      <td>NaN</td>\n",
       "      <td>NaN</td>\n",
       "    </tr>\n",
       "    <tr>\n",
       "      <th>904</th>\n",
       "      <td>Yelisirur wind power project</td>\n",
       "      <td>25.5</td>\n",
       "      <td>15.2758</td>\n",
       "      <td>75.5811</td>\n",
       "      <td>Wind</td>\n",
       "      <td>NaN</td>\n",
       "      <td>NaN</td>\n",
       "      <td>NaN</td>\n",
       "      <td>NaN</td>\n",
       "      <td>NaN</td>\n",
       "    </tr>\n",
       "    <tr>\n",
       "      <th>905</th>\n",
       "      <td>ZAWAR MINES</td>\n",
       "      <td>80.0</td>\n",
       "      <td>24.3500</td>\n",
       "      <td>73.7477</td>\n",
       "      <td>Coal</td>\n",
       "      <td>NaN</td>\n",
       "      <td>NaN</td>\n",
       "      <td>NaN</td>\n",
       "      <td>NaN</td>\n",
       "      <td>NaN</td>\n",
       "    </tr>\n",
       "    <tr>\n",
       "      <th>906</th>\n",
       "      <td>iEnergy Theni Wind Farm</td>\n",
       "      <td>16.5</td>\n",
       "      <td>9.9344</td>\n",
       "      <td>77.4768</td>\n",
       "      <td>Wind</td>\n",
       "      <td>NaN</td>\n",
       "      <td>NaN</td>\n",
       "      <td>NaN</td>\n",
       "      <td>NaN</td>\n",
       "      <td>NaN</td>\n",
       "    </tr>\n",
       "  </tbody>\n",
       "</table>\n",
       "<p>907 rows × 10 columns</p>\n",
       "</div>"
      ],
      "text/plain": [
       "                             name  capacity_mw  latitude  longitude  \\\n",
       "0                ACME Solar Tower          2.5   28.1839    73.2407   \n",
       "1             ADITYA CEMENT WORKS         98.0   24.7663    74.6090   \n",
       "2        AES Saurashtra Windfarms         39.2   21.9038    69.3732   \n",
       "3                     AGARTALA GT        135.0   23.8712    91.3602   \n",
       "4                    AKALTARA TPP       1800.0   21.9603    82.4091   \n",
       "..                            ...          ...       ...        ...   \n",
       "902                  YERMARUS TPP       1600.0   16.2949    77.3568   \n",
       "903  Yelesandra Solar Power Plant          3.0   12.8932    78.1654   \n",
       "904  Yelisirur wind power project         25.5   15.2758    75.5811   \n",
       "905                   ZAWAR MINES         80.0   24.3500    73.7477   \n",
       "906       iEnergy Theni Wind Farm         16.5    9.9344    77.4768   \n",
       "\n",
       "    primary_fuel  generation_gwh_2014  generation_gwh_2015  \\\n",
       "0          Solar                  NaN                  NaN   \n",
       "1           Coal                  NaN                  NaN   \n",
       "2           Wind                  NaN                  NaN   \n",
       "3            Gas           617.789264           843.747000   \n",
       "4           Coal          3035.550000          5916.370000   \n",
       "..           ...                  ...                  ...   \n",
       "902         Coal                  NaN             0.994875   \n",
       "903        Solar                  NaN                  NaN   \n",
       "904         Wind                  NaN                  NaN   \n",
       "905         Coal                  NaN                  NaN   \n",
       "906         Wind                  NaN                  NaN   \n",
       "\n",
       "     generation_gwh_2016  generation_gwh_2017  generation_gwh_2018  \n",
       "0                    NaN                  NaN                  NaN  \n",
       "1                    NaN                  NaN                  NaN  \n",
       "2                    NaN                  NaN                  NaN  \n",
       "3             886.004428           663.774500           626.239128  \n",
       "4            6243.000000          5385.579736          7279.000000  \n",
       "..                   ...                  ...                  ...  \n",
       "902           233.596650           865.400000           686.500000  \n",
       "903                  NaN                  NaN                  NaN  \n",
       "904                  NaN                  NaN                  NaN  \n",
       "905                  NaN                  NaN                  NaN  \n",
       "906                  NaN                  NaN                  NaN  \n",
       "\n",
       "[907 rows x 10 columns]"
      ]
     },
     "execution_count": 8,
     "metadata": {},
     "output_type": "execute_result"
    }
   ],
   "source": [
    "df.drop(['country','other_fuel1','generation_data_source','year_of_capacity_data','country_long','gppd_idnr','commissioning_year','other_fuel2','other_fuel3','owner','source','geolocation_source','url','wepp_id','generation_gwh_2013','generation_gwh_2019','estimated_generation_gwh'],axis=1,inplace=True)\n",
    "df"
   ]
  },
  {
   "cell_type": "code",
   "execution_count": 9,
   "id": "1251f375",
   "metadata": {},
   "outputs": [
    {
     "data": {
      "text/plain": [
       "name                     0\n",
       "capacity_mw              0\n",
       "latitude                46\n",
       "longitude               46\n",
       "primary_fuel             0\n",
       "generation_gwh_2014    509\n",
       "generation_gwh_2015    485\n",
       "generation_gwh_2016    473\n",
       "generation_gwh_2017    467\n",
       "generation_gwh_2018    459\n",
       "dtype: int64"
      ]
     },
     "execution_count": 9,
     "metadata": {},
     "output_type": "execute_result"
    }
   ],
   "source": [
    "df.isnull().sum()"
   ]
  },
  {
   "cell_type": "code",
   "execution_count": 10,
   "id": "8e0e468d",
   "metadata": {},
   "outputs": [
    {
     "data": {
      "text/plain": [
       "name                    object\n",
       "capacity_mw            float64\n",
       "latitude               float64\n",
       "longitude              float64\n",
       "primary_fuel            object\n",
       "generation_gwh_2014    float64\n",
       "generation_gwh_2015    float64\n",
       "generation_gwh_2016    float64\n",
       "generation_gwh_2017    float64\n",
       "generation_gwh_2018    float64\n",
       "dtype: object"
      ]
     },
     "execution_count": 10,
     "metadata": {},
     "output_type": "execute_result"
    }
   ],
   "source": [
    "df.dtypes"
   ]
  },
  {
   "cell_type": "code",
   "execution_count": 11,
   "id": "2e113984",
   "metadata": {},
   "outputs": [],
   "source": [
    "# take the mean to replace nan in continous data\n",
    "generation_gwh_2014_mean = df['generation_gwh_2014'].mean()\n",
    "generation_gwh_2015_mean= df['generation_gwh_2015'].mean()\n",
    "generation_gwh_2016_mean=df['generation_gwh_2016'].mean()\n",
    "generation_gwh_2017_mean=df['generation_gwh_2017'].mean()\n",
    "generation_gwh_2018_mean=df['generation_gwh_2018'].mean()\n",
    "latitude_mean=df[\"latitude\"].mean()\n",
    "longitude_mean=df[\"longitude\"].mean()"
   ]
  },
  {
   "cell_type": "code",
   "execution_count": 12,
   "id": "2ad16bc4",
   "metadata": {},
   "outputs": [],
   "source": [
    "# Replace NaN values with the mean in generation_gwh and latitude and longitude\n",
    "df['generation_gwh_2014'].fillna(generation_gwh_2014_mean, inplace=True)\n",
    "df['generation_gwh_2015'].fillna(generation_gwh_2015_mean, inplace=True)\n",
    "df['generation_gwh_2016'].fillna(generation_gwh_2016_mean, inplace=True)\n",
    "df['generation_gwh_2017'].fillna(generation_gwh_2017_mean, inplace=True)\n",
    "df['generation_gwh_2018'].fillna(generation_gwh_2018_mean, inplace=True)\n",
    "df[\"latitude\"].fillna(latitude_mean,inplace=True)\n",
    "df[\"longitude\"].fillna(longitude_mean,inplace=True)"
   ]
  },
  {
   "cell_type": "code",
   "execution_count": 13,
   "id": "158087a7",
   "metadata": {},
   "outputs": [
    {
     "data": {
      "text/html": [
       "<div>\n",
       "<style scoped>\n",
       "    .dataframe tbody tr th:only-of-type {\n",
       "        vertical-align: middle;\n",
       "    }\n",
       "\n",
       "    .dataframe tbody tr th {\n",
       "        vertical-align: top;\n",
       "    }\n",
       "\n",
       "    .dataframe thead th {\n",
       "        text-align: right;\n",
       "    }\n",
       "</style>\n",
       "<table border=\"1\" class=\"dataframe\">\n",
       "  <thead>\n",
       "    <tr style=\"text-align: right;\">\n",
       "      <th></th>\n",
       "      <th>name</th>\n",
       "      <th>capacity_mw</th>\n",
       "      <th>latitude</th>\n",
       "      <th>longitude</th>\n",
       "      <th>primary_fuel</th>\n",
       "      <th>generation_gwh_2014</th>\n",
       "      <th>generation_gwh_2015</th>\n",
       "      <th>generation_gwh_2016</th>\n",
       "      <th>generation_gwh_2017</th>\n",
       "      <th>generation_gwh_2018</th>\n",
       "    </tr>\n",
       "  </thead>\n",
       "  <tbody>\n",
       "    <tr>\n",
       "      <th>0</th>\n",
       "      <td>ACME Solar Tower</td>\n",
       "      <td>2.5</td>\n",
       "      <td>28.1839</td>\n",
       "      <td>73.2407</td>\n",
       "      <td>Solar</td>\n",
       "      <td>2431.823590</td>\n",
       "      <td>2428.226946</td>\n",
       "      <td>2467.936859</td>\n",
       "      <td>2547.759305</td>\n",
       "      <td>2600.804099</td>\n",
       "    </tr>\n",
       "    <tr>\n",
       "      <th>1</th>\n",
       "      <td>ADITYA CEMENT WORKS</td>\n",
       "      <td>98.0</td>\n",
       "      <td>24.7663</td>\n",
       "      <td>74.6090</td>\n",
       "      <td>Coal</td>\n",
       "      <td>2431.823590</td>\n",
       "      <td>2428.226946</td>\n",
       "      <td>2467.936859</td>\n",
       "      <td>2547.759305</td>\n",
       "      <td>2600.804099</td>\n",
       "    </tr>\n",
       "    <tr>\n",
       "      <th>2</th>\n",
       "      <td>AES Saurashtra Windfarms</td>\n",
       "      <td>39.2</td>\n",
       "      <td>21.9038</td>\n",
       "      <td>69.3732</td>\n",
       "      <td>Wind</td>\n",
       "      <td>2431.823590</td>\n",
       "      <td>2428.226946</td>\n",
       "      <td>2467.936859</td>\n",
       "      <td>2547.759305</td>\n",
       "      <td>2600.804099</td>\n",
       "    </tr>\n",
       "    <tr>\n",
       "      <th>3</th>\n",
       "      <td>AGARTALA GT</td>\n",
       "      <td>135.0</td>\n",
       "      <td>23.8712</td>\n",
       "      <td>91.3602</td>\n",
       "      <td>Gas</td>\n",
       "      <td>617.789264</td>\n",
       "      <td>843.747000</td>\n",
       "      <td>886.004428</td>\n",
       "      <td>663.774500</td>\n",
       "      <td>626.239128</td>\n",
       "    </tr>\n",
       "    <tr>\n",
       "      <th>4</th>\n",
       "      <td>AKALTARA TPP</td>\n",
       "      <td>1800.0</td>\n",
       "      <td>21.9603</td>\n",
       "      <td>82.4091</td>\n",
       "      <td>Coal</td>\n",
       "      <td>3035.550000</td>\n",
       "      <td>5916.370000</td>\n",
       "      <td>6243.000000</td>\n",
       "      <td>5385.579736</td>\n",
       "      <td>7279.000000</td>\n",
       "    </tr>\n",
       "    <tr>\n",
       "      <th>...</th>\n",
       "      <td>...</td>\n",
       "      <td>...</td>\n",
       "      <td>...</td>\n",
       "      <td>...</td>\n",
       "      <td>...</td>\n",
       "      <td>...</td>\n",
       "      <td>...</td>\n",
       "      <td>...</td>\n",
       "      <td>...</td>\n",
       "      <td>...</td>\n",
       "    </tr>\n",
       "    <tr>\n",
       "      <th>902</th>\n",
       "      <td>YERMARUS TPP</td>\n",
       "      <td>1600.0</td>\n",
       "      <td>16.2949</td>\n",
       "      <td>77.3568</td>\n",
       "      <td>Coal</td>\n",
       "      <td>2431.823590</td>\n",
       "      <td>0.994875</td>\n",
       "      <td>233.596650</td>\n",
       "      <td>865.400000</td>\n",
       "      <td>686.500000</td>\n",
       "    </tr>\n",
       "    <tr>\n",
       "      <th>903</th>\n",
       "      <td>Yelesandra Solar Power Plant</td>\n",
       "      <td>3.0</td>\n",
       "      <td>12.8932</td>\n",
       "      <td>78.1654</td>\n",
       "      <td>Solar</td>\n",
       "      <td>2431.823590</td>\n",
       "      <td>2428.226946</td>\n",
       "      <td>2467.936859</td>\n",
       "      <td>2547.759305</td>\n",
       "      <td>2600.804099</td>\n",
       "    </tr>\n",
       "    <tr>\n",
       "      <th>904</th>\n",
       "      <td>Yelisirur wind power project</td>\n",
       "      <td>25.5</td>\n",
       "      <td>15.2758</td>\n",
       "      <td>75.5811</td>\n",
       "      <td>Wind</td>\n",
       "      <td>2431.823590</td>\n",
       "      <td>2428.226946</td>\n",
       "      <td>2467.936859</td>\n",
       "      <td>2547.759305</td>\n",
       "      <td>2600.804099</td>\n",
       "    </tr>\n",
       "    <tr>\n",
       "      <th>905</th>\n",
       "      <td>ZAWAR MINES</td>\n",
       "      <td>80.0</td>\n",
       "      <td>24.3500</td>\n",
       "      <td>73.7477</td>\n",
       "      <td>Coal</td>\n",
       "      <td>2431.823590</td>\n",
       "      <td>2428.226946</td>\n",
       "      <td>2467.936859</td>\n",
       "      <td>2547.759305</td>\n",
       "      <td>2600.804099</td>\n",
       "    </tr>\n",
       "    <tr>\n",
       "      <th>906</th>\n",
       "      <td>iEnergy Theni Wind Farm</td>\n",
       "      <td>16.5</td>\n",
       "      <td>9.9344</td>\n",
       "      <td>77.4768</td>\n",
       "      <td>Wind</td>\n",
       "      <td>2431.823590</td>\n",
       "      <td>2428.226946</td>\n",
       "      <td>2467.936859</td>\n",
       "      <td>2547.759305</td>\n",
       "      <td>2600.804099</td>\n",
       "    </tr>\n",
       "  </tbody>\n",
       "</table>\n",
       "<p>907 rows × 10 columns</p>\n",
       "</div>"
      ],
      "text/plain": [
       "                             name  capacity_mw  latitude  longitude  \\\n",
       "0                ACME Solar Tower          2.5   28.1839    73.2407   \n",
       "1             ADITYA CEMENT WORKS         98.0   24.7663    74.6090   \n",
       "2        AES Saurashtra Windfarms         39.2   21.9038    69.3732   \n",
       "3                     AGARTALA GT        135.0   23.8712    91.3602   \n",
       "4                    AKALTARA TPP       1800.0   21.9603    82.4091   \n",
       "..                            ...          ...       ...        ...   \n",
       "902                  YERMARUS TPP       1600.0   16.2949    77.3568   \n",
       "903  Yelesandra Solar Power Plant          3.0   12.8932    78.1654   \n",
       "904  Yelisirur wind power project         25.5   15.2758    75.5811   \n",
       "905                   ZAWAR MINES         80.0   24.3500    73.7477   \n",
       "906       iEnergy Theni Wind Farm         16.5    9.9344    77.4768   \n",
       "\n",
       "    primary_fuel  generation_gwh_2014  generation_gwh_2015  \\\n",
       "0          Solar          2431.823590          2428.226946   \n",
       "1           Coal          2431.823590          2428.226946   \n",
       "2           Wind          2431.823590          2428.226946   \n",
       "3            Gas           617.789264           843.747000   \n",
       "4           Coal          3035.550000          5916.370000   \n",
       "..           ...                  ...                  ...   \n",
       "902         Coal          2431.823590             0.994875   \n",
       "903        Solar          2431.823590          2428.226946   \n",
       "904         Wind          2431.823590          2428.226946   \n",
       "905         Coal          2431.823590          2428.226946   \n",
       "906         Wind          2431.823590          2428.226946   \n",
       "\n",
       "     generation_gwh_2016  generation_gwh_2017  generation_gwh_2018  \n",
       "0            2467.936859          2547.759305          2600.804099  \n",
       "1            2467.936859          2547.759305          2600.804099  \n",
       "2            2467.936859          2547.759305          2600.804099  \n",
       "3             886.004428           663.774500           626.239128  \n",
       "4            6243.000000          5385.579736          7279.000000  \n",
       "..                   ...                  ...                  ...  \n",
       "902           233.596650           865.400000           686.500000  \n",
       "903          2467.936859          2547.759305          2600.804099  \n",
       "904          2467.936859          2547.759305          2600.804099  \n",
       "905          2467.936859          2547.759305          2600.804099  \n",
       "906          2467.936859          2547.759305          2600.804099  \n",
       "\n",
       "[907 rows x 10 columns]"
      ]
     },
     "execution_count": 13,
     "metadata": {},
     "output_type": "execute_result"
    }
   ],
   "source": [
    "df"
   ]
  },
  {
   "cell_type": "code",
   "execution_count": 14,
   "id": "fd701d14",
   "metadata": {},
   "outputs": [
    {
     "data": {
      "text/plain": [
       "name                    object\n",
       "capacity_mw            float64\n",
       "latitude               float64\n",
       "longitude              float64\n",
       "primary_fuel            object\n",
       "generation_gwh_2014    float64\n",
       "generation_gwh_2015    float64\n",
       "generation_gwh_2016    float64\n",
       "generation_gwh_2017    float64\n",
       "generation_gwh_2018    float64\n",
       "dtype: object"
      ]
     },
     "execution_count": 14,
     "metadata": {},
     "output_type": "execute_result"
    }
   ],
   "source": [
    "df.dtypes"
   ]
  },
  {
   "cell_type": "code",
   "execution_count": 15,
   "id": "6a61db93",
   "metadata": {},
   "outputs": [
    {
     "data": {
      "text/plain": [
       "name                   0\n",
       "capacity_mw            0\n",
       "latitude               0\n",
       "longitude              0\n",
       "primary_fuel           0\n",
       "generation_gwh_2014    0\n",
       "generation_gwh_2015    0\n",
       "generation_gwh_2016    0\n",
       "generation_gwh_2017    0\n",
       "generation_gwh_2018    0\n",
       "dtype: int64"
      ]
     },
     "execution_count": 15,
     "metadata": {},
     "output_type": "execute_result"
    }
   ],
   "source": [
    "df.isnull().sum()"
   ]
  },
  {
   "cell_type": "markdown",
   "id": "18083312",
   "metadata": {},
   "source": [
    "there are no null values left in any of the columns"
   ]
  },
  {
   "cell_type": "code",
   "execution_count": 16,
   "id": "94f43416",
   "metadata": {},
   "outputs": [
    {
     "data": {
      "text/plain": [
       "array(['Solar', 'Coal', 'Wind', 'Gas', 'Hydro', 'Biomass', 'Oil',\n",
       "       'Nuclear'], dtype=object)"
      ]
     },
     "execution_count": 16,
     "metadata": {},
     "output_type": "execute_result"
    }
   ],
   "source": [
    "# checking the unique values in targrt variable(label)\n",
    "# checking the number of unique values\n",
    "df[\"primary_fuel\"].unique()"
   ]
  },
  {
   "cell_type": "markdown",
   "id": "fd51249c",
   "metadata": {},
   "source": [
    "These are the 8 categories present in the target column namely 'Solar', 'Coal', 'Wind', 'Gas', 'Hydro', 'Biomass', 'Oil',\n",
    "       'Nuclear'\n",
    "By looking at this we can say that, this is a multiclass Classification problem"
   ]
  },
  {
   "cell_type": "code",
   "execution_count": 17,
   "id": "18f16d94",
   "metadata": {},
   "outputs": [
    {
     "data": {
      "text/plain": [
       "Coal       258\n",
       "Hydro      251\n",
       "Solar      127\n",
       "Wind       123\n",
       "Gas         69\n",
       "Biomass     50\n",
       "Oil         20\n",
       "Nuclear      9\n",
       "Name: primary_fuel, dtype: int64"
      ]
     },
     "execution_count": 17,
     "metadata": {},
     "output_type": "execute_result"
    }
   ],
   "source": [
    "# checking count of each unique values in target column\n",
    "# i am using value_counts() function so that i can fetch out the count value\n",
    "df[\"primary_fuel\"].value_counts()"
   ]
  },
  {
   "cell_type": "markdown",
   "id": "da4ff2d0",
   "metadata": {},
   "source": [
    "# Description of Dataset"
   ]
  },
  {
   "cell_type": "code",
   "execution_count": 18,
   "id": "7b0884fa",
   "metadata": {},
   "outputs": [
    {
     "data": {
      "text/html": [
       "<div>\n",
       "<style scoped>\n",
       "    .dataframe tbody tr th:only-of-type {\n",
       "        vertical-align: middle;\n",
       "    }\n",
       "\n",
       "    .dataframe tbody tr th {\n",
       "        vertical-align: top;\n",
       "    }\n",
       "\n",
       "    .dataframe thead th {\n",
       "        text-align: right;\n",
       "    }\n",
       "</style>\n",
       "<table border=\"1\" class=\"dataframe\">\n",
       "  <thead>\n",
       "    <tr style=\"text-align: right;\">\n",
       "      <th></th>\n",
       "      <th>capacity_mw</th>\n",
       "      <th>latitude</th>\n",
       "      <th>longitude</th>\n",
       "      <th>generation_gwh_2014</th>\n",
       "      <th>generation_gwh_2015</th>\n",
       "      <th>generation_gwh_2016</th>\n",
       "      <th>generation_gwh_2017</th>\n",
       "      <th>generation_gwh_2018</th>\n",
       "    </tr>\n",
       "  </thead>\n",
       "  <tbody>\n",
       "    <tr>\n",
       "      <th>count</th>\n",
       "      <td>907.000000</td>\n",
       "      <td>907.000000</td>\n",
       "      <td>907.000000</td>\n",
       "      <td>907.000000</td>\n",
       "      <td>907.000000</td>\n",
       "      <td>907.000000</td>\n",
       "      <td>907.000000</td>\n",
       "      <td>907.000000</td>\n",
       "    </tr>\n",
       "    <tr>\n",
       "      <th>mean</th>\n",
       "      <td>326.223755</td>\n",
       "      <td>21.197918</td>\n",
       "      <td>77.464907</td>\n",
       "      <td>2431.823590</td>\n",
       "      <td>2428.226946</td>\n",
       "      <td>2467.936859</td>\n",
       "      <td>2547.759305</td>\n",
       "      <td>2600.804099</td>\n",
       "    </tr>\n",
       "    <tr>\n",
       "      <th>std</th>\n",
       "      <td>590.085456</td>\n",
       "      <td>6.079148</td>\n",
       "      <td>4.812291</td>\n",
       "      <td>2665.338608</td>\n",
       "      <td>2859.349132</td>\n",
       "      <td>2877.890004</td>\n",
       "      <td>2921.502193</td>\n",
       "      <td>3030.808041</td>\n",
       "    </tr>\n",
       "    <tr>\n",
       "      <th>min</th>\n",
       "      <td>0.000000</td>\n",
       "      <td>8.168900</td>\n",
       "      <td>68.644700</td>\n",
       "      <td>0.000000</td>\n",
       "      <td>0.000000</td>\n",
       "      <td>0.000000</td>\n",
       "      <td>0.000000</td>\n",
       "      <td>0.000000</td>\n",
       "    </tr>\n",
       "    <tr>\n",
       "      <th>25%</th>\n",
       "      <td>16.725000</td>\n",
       "      <td>17.072000</td>\n",
       "      <td>74.388900</td>\n",
       "      <td>1211.362750</td>\n",
       "      <td>916.000000</td>\n",
       "      <td>896.500214</td>\n",
       "      <td>882.594850</td>\n",
       "      <td>824.842340</td>\n",
       "    </tr>\n",
       "    <tr>\n",
       "      <th>50%</th>\n",
       "      <td>59.200000</td>\n",
       "      <td>21.281800</td>\n",
       "      <td>76.979200</td>\n",
       "      <td>2431.823590</td>\n",
       "      <td>2428.226946</td>\n",
       "      <td>2467.936859</td>\n",
       "      <td>2547.759305</td>\n",
       "      <td>2600.804099</td>\n",
       "    </tr>\n",
       "    <tr>\n",
       "      <th>75%</th>\n",
       "      <td>385.250000</td>\n",
       "      <td>25.176450</td>\n",
       "      <td>79.206100</td>\n",
       "      <td>2431.823590</td>\n",
       "      <td>2428.226946</td>\n",
       "      <td>2467.936859</td>\n",
       "      <td>2547.759305</td>\n",
       "      <td>2600.804099</td>\n",
       "    </tr>\n",
       "    <tr>\n",
       "      <th>max</th>\n",
       "      <td>4760.000000</td>\n",
       "      <td>34.649000</td>\n",
       "      <td>95.408000</td>\n",
       "      <td>28127.000000</td>\n",
       "      <td>30539.000000</td>\n",
       "      <td>30015.000000</td>\n",
       "      <td>35116.000000</td>\n",
       "      <td>35136.000000</td>\n",
       "    </tr>\n",
       "  </tbody>\n",
       "</table>\n",
       "</div>"
      ],
      "text/plain": [
       "       capacity_mw    latitude   longitude  generation_gwh_2014  \\\n",
       "count   907.000000  907.000000  907.000000           907.000000   \n",
       "mean    326.223755   21.197918   77.464907          2431.823590   \n",
       "std     590.085456    6.079148    4.812291          2665.338608   \n",
       "min       0.000000    8.168900   68.644700             0.000000   \n",
       "25%      16.725000   17.072000   74.388900          1211.362750   \n",
       "50%      59.200000   21.281800   76.979200          2431.823590   \n",
       "75%     385.250000   25.176450   79.206100          2431.823590   \n",
       "max    4760.000000   34.649000   95.408000         28127.000000   \n",
       "\n",
       "       generation_gwh_2015  generation_gwh_2016  generation_gwh_2017  \\\n",
       "count           907.000000           907.000000           907.000000   \n",
       "mean           2428.226946          2467.936859          2547.759305   \n",
       "std            2859.349132          2877.890004          2921.502193   \n",
       "min               0.000000             0.000000             0.000000   \n",
       "25%             916.000000           896.500214           882.594850   \n",
       "50%            2428.226946          2467.936859          2547.759305   \n",
       "75%            2428.226946          2467.936859          2547.759305   \n",
       "max           30539.000000         30015.000000         35116.000000   \n",
       "\n",
       "       generation_gwh_2018  \n",
       "count           907.000000  \n",
       "mean           2600.804099  \n",
       "std            3030.808041  \n",
       "min               0.000000  \n",
       "25%             824.842340  \n",
       "50%            2600.804099  \n",
       "75%            2600.804099  \n",
       "max           35136.000000  "
      ]
     },
     "execution_count": 18,
     "metadata": {},
     "output_type": "execute_result"
    }
   ],
   "source": [
    "df.describe()"
   ]
  },
  {
   "cell_type": "markdown",
   "id": "6407b87b",
   "metadata": {},
   "source": [
    "The counts of all the columns are same which means there are no missing values in the dataset.there are no difference between mean and median means there is no skewness present"
   ]
  },
  {
   "cell_type": "code",
   "execution_count": 19,
   "id": "5d173eed",
   "metadata": {},
   "outputs": [
    {
     "data": {
      "image/png": "[encoded data removed]",
      "text/plain": [
       "<Figure size 2000x2500 with 8 Axes>"
      ]
     },
     "metadata": {},
     "output_type": "display_data"
    }
   ],
   "source": [
    "# lets check how data is distributed\n",
    "plt.figure(figsize=(20,25))\n",
    "plot=1\n",
    "for i in df:\n",
    "    if df.dtypes[i] !='object':\n",
    "        if plot<=20:\n",
    "            plt.subplot(4,3,plot)\n",
    "            sns.distplot(df[i],color='g',kde_kws={\"color\": \"k\"})\n",
    "            plt.xlabel(i,fontsize=15)\n",
    "        plot+=1\n",
    "plt.show() "
   ]
  },
  {
   "cell_type": "markdown",
   "id": "a33f357a",
   "metadata": {},
   "source": [
    "on checking the graph we found some skewness in generastion_ghw_years"
   ]
  },
  {
   "cell_type": "markdown",
   "id": "4c9df6af",
   "metadata": {},
   "source": [
    "# Checking for Outliers"
   ]
  },
  {
   "cell_type": "code",
   "execution_count": 20,
   "id": "ac27e75d",
   "metadata": {},
   "outputs": [
    {
     "data": {
      "image/png": "[encoded data removed]",
      "text/plain": [
       "<Figure size 2000x2500 with 8 Axes>"
      ]
     },
     "metadata": {},
     "output_type": "display_data"
    }
   ],
   "source": [
    "plt.figure(figsize=(20,25))\n",
    "plot=1\n",
    "for i in df:\n",
    "    if df.dtypes[i] !='object':\n",
    "        if plot<=20:\n",
    "            plt.subplot(4,3,plot)\n",
    "            sns.boxplot(data=df[i])\n",
    "            plt.xlabel(i,fontsize=15)\n",
    "        plot+=1\n",
    "plt.show()"
   ]
  },
  {
   "cell_type": "markdown",
   "id": "84aaa705",
   "metadata": {},
   "source": [
    "There are a large number of outliers present in all the features that is needed to be removed."
   ]
  },
  {
   "cell_type": "markdown",
   "id": "cf255a9c",
   "metadata": {},
   "source": [
    "# Encoding categorical columns"
   ]
  },
  {
   "cell_type": "code",
   "execution_count": 21,
   "id": "64bc0b12",
   "metadata": {},
   "outputs": [
    {
     "data": {
      "text/html": [
       "<div>\n",
       "<style scoped>\n",
       "    .dataframe tbody tr th:only-of-type {\n",
       "        vertical-align: middle;\n",
       "    }\n",
       "\n",
       "    .dataframe tbody tr th {\n",
       "        vertical-align: top;\n",
       "    }\n",
       "\n",
       "    .dataframe thead th {\n",
       "        text-align: right;\n",
       "    }\n",
       "</style>\n",
       "<table border=\"1\" class=\"dataframe\">\n",
       "  <thead>\n",
       "    <tr style=\"text-align: right;\">\n",
       "      <th></th>\n",
       "      <th>name</th>\n",
       "      <th>capacity_mw</th>\n",
       "      <th>latitude</th>\n",
       "      <th>longitude</th>\n",
       "      <th>primary_fuel</th>\n",
       "      <th>generation_gwh_2014</th>\n",
       "      <th>generation_gwh_2015</th>\n",
       "      <th>generation_gwh_2016</th>\n",
       "      <th>generation_gwh_2017</th>\n",
       "      <th>generation_gwh_2018</th>\n",
       "    </tr>\n",
       "  </thead>\n",
       "  <tbody>\n",
       "    <tr>\n",
       "      <th>0</th>\n",
       "      <td>0.0</td>\n",
       "      <td>2.5</td>\n",
       "      <td>28.1839</td>\n",
       "      <td>73.2407</td>\n",
       "      <td>6.0</td>\n",
       "      <td>2431.823590</td>\n",
       "      <td>2428.226946</td>\n",
       "      <td>2467.936859</td>\n",
       "      <td>2547.759305</td>\n",
       "      <td>2600.804099</td>\n",
       "    </tr>\n",
       "    <tr>\n",
       "      <th>1</th>\n",
       "      <td>1.0</td>\n",
       "      <td>98.0</td>\n",
       "      <td>24.7663</td>\n",
       "      <td>74.6090</td>\n",
       "      <td>1.0</td>\n",
       "      <td>2431.823590</td>\n",
       "      <td>2428.226946</td>\n",
       "      <td>2467.936859</td>\n",
       "      <td>2547.759305</td>\n",
       "      <td>2600.804099</td>\n",
       "    </tr>\n",
       "    <tr>\n",
       "      <th>2</th>\n",
       "      <td>2.0</td>\n",
       "      <td>39.2</td>\n",
       "      <td>21.9038</td>\n",
       "      <td>69.3732</td>\n",
       "      <td>7.0</td>\n",
       "      <td>2431.823590</td>\n",
       "      <td>2428.226946</td>\n",
       "      <td>2467.936859</td>\n",
       "      <td>2547.759305</td>\n",
       "      <td>2600.804099</td>\n",
       "    </tr>\n",
       "    <tr>\n",
       "      <th>3</th>\n",
       "      <td>3.0</td>\n",
       "      <td>135.0</td>\n",
       "      <td>23.8712</td>\n",
       "      <td>91.3602</td>\n",
       "      <td>2.0</td>\n",
       "      <td>617.789264</td>\n",
       "      <td>843.747000</td>\n",
       "      <td>886.004428</td>\n",
       "      <td>663.774500</td>\n",
       "      <td>626.239128</td>\n",
       "    </tr>\n",
       "    <tr>\n",
       "      <th>4</th>\n",
       "      <td>4.0</td>\n",
       "      <td>1800.0</td>\n",
       "      <td>21.9603</td>\n",
       "      <td>82.4091</td>\n",
       "      <td>1.0</td>\n",
       "      <td>3035.550000</td>\n",
       "      <td>5916.370000</td>\n",
       "      <td>6243.000000</td>\n",
       "      <td>5385.579736</td>\n",
       "      <td>7279.000000</td>\n",
       "    </tr>\n",
       "    <tr>\n",
       "      <th>...</th>\n",
       "      <td>...</td>\n",
       "      <td>...</td>\n",
       "      <td>...</td>\n",
       "      <td>...</td>\n",
       "      <td>...</td>\n",
       "      <td>...</td>\n",
       "      <td>...</td>\n",
       "      <td>...</td>\n",
       "      <td>...</td>\n",
       "      <td>...</td>\n",
       "    </tr>\n",
       "    <tr>\n",
       "      <th>902</th>\n",
       "      <td>902.0</td>\n",
       "      <td>1600.0</td>\n",
       "      <td>16.2949</td>\n",
       "      <td>77.3568</td>\n",
       "      <td>1.0</td>\n",
       "      <td>2431.823590</td>\n",
       "      <td>0.994875</td>\n",
       "      <td>233.596650</td>\n",
       "      <td>865.400000</td>\n",
       "      <td>686.500000</td>\n",
       "    </tr>\n",
       "    <tr>\n",
       "      <th>903</th>\n",
       "      <td>903.0</td>\n",
       "      <td>3.0</td>\n",
       "      <td>12.8932</td>\n",
       "      <td>78.1654</td>\n",
       "      <td>6.0</td>\n",
       "      <td>2431.823590</td>\n",
       "      <td>2428.226946</td>\n",
       "      <td>2467.936859</td>\n",
       "      <td>2547.759305</td>\n",
       "      <td>2600.804099</td>\n",
       "    </tr>\n",
       "    <tr>\n",
       "      <th>904</th>\n",
       "      <td>904.0</td>\n",
       "      <td>25.5</td>\n",
       "      <td>15.2758</td>\n",
       "      <td>75.5811</td>\n",
       "      <td>7.0</td>\n",
       "      <td>2431.823590</td>\n",
       "      <td>2428.226946</td>\n",
       "      <td>2467.936859</td>\n",
       "      <td>2547.759305</td>\n",
       "      <td>2600.804099</td>\n",
       "    </tr>\n",
       "    <tr>\n",
       "      <th>905</th>\n",
       "      <td>905.0</td>\n",
       "      <td>80.0</td>\n",
       "      <td>24.3500</td>\n",
       "      <td>73.7477</td>\n",
       "      <td>1.0</td>\n",
       "      <td>2431.823590</td>\n",
       "      <td>2428.226946</td>\n",
       "      <td>2467.936859</td>\n",
       "      <td>2547.759305</td>\n",
       "      <td>2600.804099</td>\n",
       "    </tr>\n",
       "    <tr>\n",
       "      <th>906</th>\n",
       "      <td>906.0</td>\n",
       "      <td>16.5</td>\n",
       "      <td>9.9344</td>\n",
       "      <td>77.4768</td>\n",
       "      <td>7.0</td>\n",
       "      <td>2431.823590</td>\n",
       "      <td>2428.226946</td>\n",
       "      <td>2467.936859</td>\n",
       "      <td>2547.759305</td>\n",
       "      <td>2600.804099</td>\n",
       "    </tr>\n",
       "  </tbody>\n",
       "</table>\n",
       "<p>907 rows × 10 columns</p>\n",
       "</div>"
      ],
      "text/plain": [
       "      name  capacity_mw  latitude  longitude  primary_fuel  \\\n",
       "0      0.0          2.5   28.1839    73.2407           6.0   \n",
       "1      1.0         98.0   24.7663    74.6090           1.0   \n",
       "2      2.0         39.2   21.9038    69.3732           7.0   \n",
       "3      3.0        135.0   23.8712    91.3602           2.0   \n",
       "4      4.0       1800.0   21.9603    82.4091           1.0   \n",
       "..     ...          ...       ...        ...           ...   \n",
       "902  902.0       1600.0   16.2949    77.3568           1.0   \n",
       "903  903.0          3.0   12.8932    78.1654           6.0   \n",
       "904  904.0         25.5   15.2758    75.5811           7.0   \n",
       "905  905.0         80.0   24.3500    73.7477           1.0   \n",
       "906  906.0         16.5    9.9344    77.4768           7.0   \n",
       "\n",
       "     generation_gwh_2014  generation_gwh_2015  generation_gwh_2016  \\\n",
       "0            2431.823590          2428.226946          2467.936859   \n",
       "1            2431.823590          2428.226946          2467.936859   \n",
       "2            2431.823590          2428.226946          2467.936859   \n",
       "3             617.789264           843.747000           886.004428   \n",
       "4            3035.550000          5916.370000          6243.000000   \n",
       "..                   ...                  ...                  ...   \n",
       "902          2431.823590             0.994875           233.596650   \n",
       "903          2431.823590          2428.226946          2467.936859   \n",
       "904          2431.823590          2428.226946          2467.936859   \n",
       "905          2431.823590          2428.226946          2467.936859   \n",
       "906          2431.823590          2428.226946          2467.936859   \n",
       "\n",
       "     generation_gwh_2017  generation_gwh_2018  \n",
       "0            2547.759305          2600.804099  \n",
       "1            2547.759305          2600.804099  \n",
       "2            2547.759305          2600.804099  \n",
       "3             663.774500           626.239128  \n",
       "4            5385.579736          7279.000000  \n",
       "..                   ...                  ...  \n",
       "902           865.400000           686.500000  \n",
       "903          2547.759305          2600.804099  \n",
       "904          2547.759305          2600.804099  \n",
       "905          2547.759305          2600.804099  \n",
       "906          2547.759305          2600.804099  \n",
       "\n",
       "[907 rows x 10 columns]"
      ]
     },
     "execution_count": 21,
     "metadata": {},
     "output_type": "execute_result"
    }
   ],
   "source": [
    "# here i am using Ordinal Encoder for encoding categorical column\n",
    "from sklearn.preprocessing import OrdinalEncoder\n",
    "OE= OrdinalEncoder()\n",
    "for i in df.columns:\n",
    "    if df[i].dtypes==\"object\":\n",
    "        df[i]=OE.fit_transform(df[i].values.reshape(-1,1))\n",
    "df"
   ]
  },
  {
   "cell_type": "code",
   "execution_count": 22,
   "id": "ba69073c",
   "metadata": {},
   "outputs": [
    {
     "name": "stdout",
     "output_type": "stream",
     "text": [
      "<class 'pandas.core.frame.DataFrame'>\n",
      "RangeIndex: 907 entries, 0 to 906\n",
      "Data columns (total 10 columns):\n",
      " #   Column               Non-Null Count  Dtype  \n",
      "---  ------               --------------  -----  \n",
      " 0   name                 907 non-null    float64\n",
      " 1   capacity_mw          907 non-null    float64\n",
      " 2   latitude             907 non-null    float64\n",
      " 3   longitude            907 non-null    float64\n",
      " 4   primary_fuel         907 non-null    float64\n",
      " 5   generation_gwh_2014  907 non-null    float64\n",
      " 6   generation_gwh_2015  907 non-null    float64\n",
      " 7   generation_gwh_2016  907 non-null    float64\n",
      " 8   generation_gwh_2017  907 non-null    float64\n",
      " 9   generation_gwh_2018  907 non-null    float64\n",
      "dtypes: float64(10)\n",
      "memory usage: 71.0 KB\n"
     ]
    }
   ],
   "source": [
    "df.info()"
   ]
  },
  {
   "cell_type": "markdown",
   "id": "13abcd43",
   "metadata": {},
   "source": [
    "we have converted, the categorical columns using OrdinalEncoding method"
   ]
  },
  {
   "cell_type": "markdown",
   "id": "450eef3d",
   "metadata": {},
   "source": [
    "# removing outliers"
   ]
  },
  {
   "cell_type": "code",
   "execution_count": 23,
   "id": "487e726f",
   "metadata": {},
   "outputs": [],
   "source": [
    "#Function to choose the right threshold \n",
    "def threhold(z,d):\n",
    "    for i in np.arange(3,4,0.01):\n",
    "        data=d.copy()\n",
    "        data=data[(z<i).all(axis=1)]\n",
    "        loss=(d.shape[0]-data.shape[0])/d.shape[0]*100\n",
    "        print('With threshold {} data loss is {}%'.format(np.round(i,2),np.round(loss,2))) "
   ]
  },
  {
   "cell_type": "code",
   "execution_count": 24,
   "id": "b51b5167",
   "metadata": {},
   "outputs": [
    {
     "name": "stdout",
     "output_type": "stream",
     "text": [
      "With threshold 3.0 data loss is 4.3%\n",
      "With threshold 3.01 data loss is 4.19%\n",
      "With threshold 3.02 data loss is 4.08%\n",
      "With threshold 3.03 data loss is 4.08%\n",
      "With threshold 3.04 data loss is 4.08%\n",
      "With threshold 3.05 data loss is 4.08%\n",
      "With threshold 3.06 data loss is 4.08%\n",
      "With threshold 3.07 data loss is 3.97%\n",
      "With threshold 3.08 data loss is 3.97%\n",
      "With threshold 3.09 data loss is 3.97%\n",
      "With threshold 3.1 data loss is 3.97%\n",
      "With threshold 3.11 data loss is 3.97%\n",
      "With threshold 3.12 data loss is 3.97%\n",
      "With threshold 3.13 data loss is 3.86%\n",
      "With threshold 3.14 data loss is 3.86%\n",
      "With threshold 3.15 data loss is 3.86%\n",
      "With threshold 3.16 data loss is 3.86%\n",
      "With threshold 3.17 data loss is 3.53%\n",
      "With threshold 3.18 data loss is 3.53%\n",
      "With threshold 3.19 data loss is 3.53%\n",
      "With threshold 3.2 data loss is 3.53%\n",
      "With threshold 3.21 data loss is 3.42%\n",
      "With threshold 3.22 data loss is 3.42%\n",
      "With threshold 3.23 data loss is 3.31%\n",
      "With threshold 3.24 data loss is 3.31%\n",
      "With threshold 3.25 data loss is 3.31%\n",
      "With threshold 3.26 data loss is 3.31%\n",
      "With threshold 3.27 data loss is 3.31%\n",
      "With threshold 3.28 data loss is 3.31%\n",
      "With threshold 3.29 data loss is 3.31%\n",
      "With threshold 3.3 data loss is 3.31%\n",
      "With threshold 3.31 data loss is 3.31%\n",
      "With threshold 3.32 data loss is 3.31%\n",
      "With threshold 3.33 data loss is 3.31%\n",
      "With threshold 3.34 data loss is 3.31%\n",
      "With threshold 3.35 data loss is 3.31%\n",
      "With threshold 3.36 data loss is 3.31%\n",
      "With threshold 3.37 data loss is 3.2%\n",
      "With threshold 3.38 data loss is 3.2%\n",
      "With threshold 3.39 data loss is 2.98%\n",
      "With threshold 3.4 data loss is 2.65%\n",
      "With threshold 3.41 data loss is 2.65%\n",
      "With threshold 3.42 data loss is 2.65%\n",
      "With threshold 3.43 data loss is 2.65%\n",
      "With threshold 3.44 data loss is 2.65%\n",
      "With threshold 3.45 data loss is 2.65%\n",
      "With threshold 3.46 data loss is 2.65%\n",
      "With threshold 3.47 data loss is 2.65%\n",
      "With threshold 3.48 data loss is 2.65%\n",
      "With threshold 3.49 data loss is 2.65%\n",
      "With threshold 3.5 data loss is 2.54%\n",
      "With threshold 3.51 data loss is 2.54%\n",
      "With threshold 3.52 data loss is 2.21%\n",
      "With threshold 3.53 data loss is 2.21%\n",
      "With threshold 3.54 data loss is 2.21%\n",
      "With threshold 3.55 data loss is 2.21%\n",
      "With threshold 3.56 data loss is 2.21%\n",
      "With threshold 3.57 data loss is 2.21%\n",
      "With threshold 3.58 data loss is 2.21%\n",
      "With threshold 3.59 data loss is 2.21%\n",
      "With threshold 3.6 data loss is 2.21%\n",
      "With threshold 3.61 data loss is 2.21%\n",
      "With threshold 3.62 data loss is 2.21%\n",
      "With threshold 3.63 data loss is 2.09%\n",
      "With threshold 3.64 data loss is 2.09%\n",
      "With threshold 3.65 data loss is 2.09%\n",
      "With threshold 3.66 data loss is 2.09%\n",
      "With threshold 3.67 data loss is 2.09%\n",
      "With threshold 3.68 data loss is 2.09%\n",
      "With threshold 3.69 data loss is 2.09%\n",
      "With threshold 3.7 data loss is 2.09%\n",
      "With threshold 3.71 data loss is 2.09%\n",
      "With threshold 3.72 data loss is 1.98%\n",
      "With threshold 3.73 data loss is 1.87%\n",
      "With threshold 3.74 data loss is 1.76%\n",
      "With threshold 3.75 data loss is 1.76%\n",
      "With threshold 3.76 data loss is 1.76%\n",
      "With threshold 3.77 data loss is 1.65%\n",
      "With threshold 3.78 data loss is 1.65%\n",
      "With threshold 3.79 data loss is 1.65%\n",
      "With threshold 3.8 data loss is 1.65%\n",
      "With threshold 3.81 data loss is 1.65%\n",
      "With threshold 3.82 data loss is 1.65%\n",
      "With threshold 3.83 data loss is 1.65%\n",
      "With threshold 3.84 data loss is 1.65%\n",
      "With threshold 3.85 data loss is 1.65%\n",
      "With threshold 3.86 data loss is 1.65%\n",
      "With threshold 3.87 data loss is 1.65%\n",
      "With threshold 3.88 data loss is 1.65%\n",
      "With threshold 3.89 data loss is 1.65%\n",
      "With threshold 3.9 data loss is 1.65%\n",
      "With threshold 3.91 data loss is 1.65%\n",
      "With threshold 3.92 data loss is 1.65%\n",
      "With threshold 3.93 data loss is 1.65%\n",
      "With threshold 3.94 data loss is 1.65%\n",
      "With threshold 3.95 data loss is 1.65%\n",
      "With threshold 3.96 data loss is 1.65%\n",
      "With threshold 3.97 data loss is 1.65%\n",
      "With threshold 3.98 data loss is 1.65%\n",
      "With threshold 3.99 data loss is 1.65%\n"
     ]
    }
   ],
   "source": [
    "#Using zscore method to remove outliers\n",
    "from scipy.stats import zscore\n",
    "z=np.abs(zscore(df))\n",
    "threhold(z,df)"
   ]
  },
  {
   "cell_type": "code",
   "execution_count": 25,
   "id": "4ebb94a9",
   "metadata": {},
   "outputs": [],
   "source": [
    "#We use threshold as 3.39 because we cannot afford to loose much data\n",
    "df=df[(z<3.39).all(axis=1)]"
   ]
  },
  {
   "cell_type": "code",
   "execution_count": 26,
   "id": "bbdfd1dd",
   "metadata": {},
   "outputs": [
    {
     "data": {
      "image/png": "[encoded data removed]",
      "text/plain": [
       "<Figure size 2000x2500 with 10 Axes>"
      ]
     },
     "metadata": {},
     "output_type": "display_data"
    }
   ],
   "source": [
    "plt.figure(figsize=(20,25),facecolor=\"white\")\n",
    "plotnumber=1\n",
    "for col in df:\n",
    "    if plotnumber<=20:\n",
    "        ac=plt.subplot(5,4,plotnumber)\n",
    "        sns.boxplot(data=df[col])\n",
    "        plt.xlabel(col,fontsize=15)\n",
    "    plotnumber+=1\n",
    "plt.show()"
   ]
  },
  {
   "cell_type": "markdown",
   "id": "36238b77",
   "metadata": {},
   "source": [
    "outliers removed"
   ]
  },
  {
   "cell_type": "code",
   "execution_count": 27,
   "id": "428c7c9e",
   "metadata": {},
   "outputs": [
    {
     "data": {
      "image/png": "[encoded data removed]",
      "text/plain": [
       "<Figure size 2000x2500 with 10 Axes>"
      ]
     },
     "metadata": {},
     "output_type": "display_data"
    }
   ],
   "source": [
    "plt.figure(figsize=(20,25))\n",
    "plot=1\n",
    "for i in df:\n",
    "    if df.dtypes[i] !='object':\n",
    "        if plot<=20:\n",
    "            plt.subplot(4,3,plot)\n",
    "            sns.distplot(df[i],color='g',kde_kws={\"color\": \"k\"})\n",
    "            plt.xlabel(i,fontsize=15)\n",
    "        plot+=1\n",
    "plt.show() "
   ]
  },
  {
   "cell_type": "markdown",
   "id": "a117a36d",
   "metadata": {},
   "source": [
    "skewness present in capacity_mw and in all generation_ghw "
   ]
  },
  {
   "cell_type": "markdown",
   "id": "6a29c8c8",
   "metadata": {},
   "source": [
    "# checking skewness"
   ]
  },
  {
   "cell_type": "code",
   "execution_count": 28,
   "id": "b3186858",
   "metadata": {},
   "outputs": [
    {
     "data": {
      "text/plain": [
       "name                   0.011071\n",
       "capacity_mw            2.096194\n",
       "latitude              -0.125082\n",
       "longitude              1.089917\n",
       "primary_fuel           0.428348\n",
       "generation_gwh_2014    1.501245\n",
       "generation_gwh_2015    1.378234\n",
       "generation_gwh_2016    1.398028\n",
       "generation_gwh_2017    1.278202\n",
       "generation_gwh_2018    1.429332\n",
       "dtype: float64"
      ]
     },
     "execution_count": 28,
     "metadata": {},
     "output_type": "execute_result"
    }
   ],
   "source": [
    "df.skew()"
   ]
  },
  {
   "cell_type": "markdown",
   "id": "d6d3dcea",
   "metadata": {},
   "source": [
    "# Removing Skewness"
   ]
  },
  {
   "cell_type": "code",
   "execution_count": 29,
   "id": "a1a58d06",
   "metadata": {},
   "outputs": [],
   "source": [
    "import numpy as np\n",
    "\n",
    "for i in df.columns:\n",
    "    if i not in [\"primary_fuel\"]:\n",
    "        if df[i].skew()<0.5 and df[i].skew()> -0.5:\n",
    "            continue\n",
    "        elif df[i].skew() > 0.5 or df[i].skew() < -0.5:\n",
    "            df[i] = np.sqrt(df[i])"
   ]
  },
  {
   "cell_type": "code",
   "execution_count": 30,
   "id": "2a11c7ff",
   "metadata": {},
   "outputs": [
    {
     "data": {
      "text/plain": [
       "name                   0.011071\n",
       "capacity_mw            1.225670\n",
       "latitude              -0.125082\n",
       "longitude              0.989466\n",
       "primary_fuel           0.428348\n",
       "generation_gwh_2014   -0.466282\n",
       "generation_gwh_2015   -0.430276\n",
       "generation_gwh_2016   -0.388665\n",
       "generation_gwh_2017   -0.404440\n",
       "generation_gwh_2018   -0.343375\n",
       "dtype: float64"
      ]
     },
     "execution_count": 30,
     "metadata": {},
     "output_type": "execute_result"
    }
   ],
   "source": [
    "df.skew()"
   ]
  },
  {
   "cell_type": "markdown",
   "id": "dcb7795e",
   "metadata": {},
   "source": [
    "# correlation between target variable and independent variables."
   ]
  },
  {
   "cell_type": "code",
   "execution_count": 31,
   "id": "3081e182",
   "metadata": {},
   "outputs": [
    {
     "data": {
      "image/png": "[encoded data removed]",
      "text/plain": [
       "<Figure size 1000x500 with 2 Axes>"
      ]
     },
     "metadata": {},
     "output_type": "display_data"
    }
   ],
   "source": [
    "plt.figure(figsize=(10,5))\n",
    "sns.heatmap(df.corr(),linewidths=0.1,fmt=\".1g\",linecolor='black',annot=True,cmap=\"Blues_r\")\n",
    "plt.yticks(rotation=0)\n",
    "plt.show()"
   ]
  },
  {
   "cell_type": "markdown",
   "id": "7275aa2d",
   "metadata": {},
   "source": [
    "there are high correlation between the columns"
   ]
  },
  {
   "cell_type": "markdown",
   "id": "6cae70c9",
   "metadata": {},
   "source": [
    "# seperating features and label"
   ]
  },
  {
   "cell_type": "code",
   "execution_count": 32,
   "id": "2b8d60e6",
   "metadata": {},
   "outputs": [],
   "source": [
    "x=df.drop(\"primary_fuel\",axis=1)\n",
    "y=df[\"primary_fuel\"]"
   ]
  },
  {
   "cell_type": "markdown",
   "id": "bee469c7",
   "metadata": {},
   "source": [
    "# Feature Scaling using Standard Scalarization"
   ]
  },
  {
   "cell_type": "code",
   "execution_count": 33,
   "id": "a9a34c22",
   "metadata": {},
   "outputs": [
    {
     "data": {
      "text/html": [
       "<div>\n",
       "<style scoped>\n",
       "    .dataframe tbody tr th:only-of-type {\n",
       "        vertical-align: middle;\n",
       "    }\n",
       "\n",
       "    .dataframe tbody tr th {\n",
       "        vertical-align: top;\n",
       "    }\n",
       "\n",
       "    .dataframe thead th {\n",
       "        text-align: right;\n",
       "    }\n",
       "</style>\n",
       "<table border=\"1\" class=\"dataframe\">\n",
       "  <thead>\n",
       "    <tr style=\"text-align: right;\">\n",
       "      <th></th>\n",
       "      <th>name</th>\n",
       "      <th>capacity_mw</th>\n",
       "      <th>latitude</th>\n",
       "      <th>longitude</th>\n",
       "      <th>generation_gwh_2014</th>\n",
       "      <th>generation_gwh_2015</th>\n",
       "      <th>generation_gwh_2016</th>\n",
       "      <th>generation_gwh_2017</th>\n",
       "      <th>generation_gwh_2018</th>\n",
       "    </tr>\n",
       "  </thead>\n",
       "  <tbody>\n",
       "    <tr>\n",
       "      <th>0</th>\n",
       "      <td>-1.720015</td>\n",
       "      <td>-0.954268</td>\n",
       "      <td>1.150306</td>\n",
       "      <td>-0.888938</td>\n",
       "      <td>0.366195</td>\n",
       "      <td>0.387601</td>\n",
       "      <td>0.384093</td>\n",
       "      <td>0.383985</td>\n",
       "      <td>0.390849</td>\n",
       "    </tr>\n",
       "    <tr>\n",
       "      <th>1</th>\n",
       "      <td>-1.716203</td>\n",
       "      <td>-0.197056</td>\n",
       "      <td>0.593005</td>\n",
       "      <td>-0.579656</td>\n",
       "      <td>0.366195</td>\n",
       "      <td>0.387601</td>\n",
       "      <td>0.384093</td>\n",
       "      <td>0.383985</td>\n",
       "      <td>0.390849</td>\n",
       "    </tr>\n",
       "    <tr>\n",
       "      <th>2</th>\n",
       "      <td>-1.712391</td>\n",
       "      <td>-0.528266</td>\n",
       "      <td>0.126224</td>\n",
       "      <td>-1.779100</td>\n",
       "      <td>0.366195</td>\n",
       "      <td>0.387601</td>\n",
       "      <td>0.384093</td>\n",
       "      <td>0.383985</td>\n",
       "      <td>0.390849</td>\n",
       "    </tr>\n",
       "    <tr>\n",
       "      <th>3</th>\n",
       "      <td>-1.708580</td>\n",
       "      <td>-0.040536</td>\n",
       "      <td>0.447043</td>\n",
       "      <td>2.998563</td>\n",
       "      <td>-0.980434</td>\n",
       "      <td>-0.679517</td>\n",
       "      <td>-0.641314</td>\n",
       "      <td>-0.859066</td>\n",
       "      <td>-0.885554</td>\n",
       "    </tr>\n",
       "    <tr>\n",
       "      <th>4</th>\n",
       "      <td>-1.704768</td>\n",
       "      <td>2.763838</td>\n",
       "      <td>0.135437</td>\n",
       "      <td>1.131695</td>\n",
       "      <td>0.684560</td>\n",
       "      <td>1.845659</td>\n",
       "      <td>1.894683</td>\n",
       "      <td>1.536475</td>\n",
       "      <td>2.077382</td>\n",
       "    </tr>\n",
       "    <tr>\n",
       "      <th>...</th>\n",
       "      <td>...</td>\n",
       "      <td>...</td>\n",
       "      <td>...</td>\n",
       "      <td>...</td>\n",
       "      <td>...</td>\n",
       "      <td>...</td>\n",
       "      <td>...</td>\n",
       "      <td>...</td>\n",
       "      <td>...</td>\n",
       "    </tr>\n",
       "    <tr>\n",
       "      <th>875</th>\n",
       "      <td>1.718256</td>\n",
       "      <td>2.542964</td>\n",
       "      <td>-0.788407</td>\n",
       "      <td>0.032990</td>\n",
       "      <td>0.366195</td>\n",
       "      <td>-2.159149</td>\n",
       "      <td>-1.387071</td>\n",
       "      <td>-0.675268</td>\n",
       "      <td>-0.827743</td>\n",
       "    </tr>\n",
       "    <tr>\n",
       "      <th>876</th>\n",
       "      <td>1.722068</td>\n",
       "      <td>-0.940531</td>\n",
       "      <td>-1.343115</td>\n",
       "      <td>0.211195</td>\n",
       "      <td>0.366195</td>\n",
       "      <td>0.387601</td>\n",
       "      <td>0.384093</td>\n",
       "      <td>0.383985</td>\n",
       "      <td>0.390849</td>\n",
       "    </tr>\n",
       "    <tr>\n",
       "      <th>877</th>\n",
       "      <td>1.725880</td>\n",
       "      <td>-0.638523</td>\n",
       "      <td>-0.954589</td>\n",
       "      <td>-0.361648</td>\n",
       "      <td>0.366195</td>\n",
       "      <td>0.387601</td>\n",
       "      <td>0.384093</td>\n",
       "      <td>0.383985</td>\n",
       "      <td>0.390849</td>\n",
       "    </tr>\n",
       "    <tr>\n",
       "      <th>878</th>\n",
       "      <td>1.729692</td>\n",
       "      <td>-0.284009</td>\n",
       "      <td>0.525120</td>\n",
       "      <td>-0.774005</td>\n",
       "      <td>0.366195</td>\n",
       "      <td>0.387601</td>\n",
       "      <td>0.384093</td>\n",
       "      <td>0.383985</td>\n",
       "      <td>0.390849</td>\n",
       "    </tr>\n",
       "    <tr>\n",
       "      <th>879</th>\n",
       "      <td>1.733504</td>\n",
       "      <td>-0.728436</td>\n",
       "      <td>-1.825600</td>\n",
       "      <td>0.059495</td>\n",
       "      <td>0.366195</td>\n",
       "      <td>0.387601</td>\n",
       "      <td>0.384093</td>\n",
       "      <td>0.383985</td>\n",
       "      <td>0.390849</td>\n",
       "    </tr>\n",
       "  </tbody>\n",
       "</table>\n",
       "<p>880 rows × 9 columns</p>\n",
       "</div>"
      ],
      "text/plain": [
       "         name  capacity_mw  latitude  longitude  generation_gwh_2014  \\\n",
       "0   -1.720015    -0.954268  1.150306  -0.888938             0.366195   \n",
       "1   -1.716203    -0.197056  0.593005  -0.579656             0.366195   \n",
       "2   -1.712391    -0.528266  0.126224  -1.779100             0.366195   \n",
       "3   -1.708580    -0.040536  0.447043   2.998563            -0.980434   \n",
       "4   -1.704768     2.763838  0.135437   1.131695             0.684560   \n",
       "..        ...          ...       ...        ...                  ...   \n",
       "875  1.718256     2.542964 -0.788407   0.032990             0.366195   \n",
       "876  1.722068    -0.940531 -1.343115   0.211195             0.366195   \n",
       "877  1.725880    -0.638523 -0.954589  -0.361648             0.366195   \n",
       "878  1.729692    -0.284009  0.525120  -0.774005             0.366195   \n",
       "879  1.733504    -0.728436 -1.825600   0.059495             0.366195   \n",
       "\n",
       "     generation_gwh_2015  generation_gwh_2016  generation_gwh_2017  \\\n",
       "0               0.387601             0.384093             0.383985   \n",
       "1               0.387601             0.384093             0.383985   \n",
       "2               0.387601             0.384093             0.383985   \n",
       "3              -0.679517            -0.641314            -0.859066   \n",
       "4               1.845659             1.894683             1.536475   \n",
       "..                   ...                  ...                  ...   \n",
       "875            -2.159149            -1.387071            -0.675268   \n",
       "876             0.387601             0.384093             0.383985   \n",
       "877             0.387601             0.384093             0.383985   \n",
       "878             0.387601             0.384093             0.383985   \n",
       "879             0.387601             0.384093             0.383985   \n",
       "\n",
       "     generation_gwh_2018  \n",
       "0               0.390849  \n",
       "1               0.390849  \n",
       "2               0.390849  \n",
       "3              -0.885554  \n",
       "4               2.077382  \n",
       "..                   ...  \n",
       "875            -0.827743  \n",
       "876             0.390849  \n",
       "877             0.390849  \n",
       "878             0.390849  \n",
       "879             0.390849  \n",
       "\n",
       "[880 rows x 9 columns]"
      ]
     },
     "execution_count": 33,
     "metadata": {},
     "output_type": "execute_result"
    }
   ],
   "source": [
    "from sklearn.preprocessing import StandardScaler\n",
    "scaler=StandardScaler()\n",
    "x=pd.DataFrame(scaler.fit_transform(x),columns=x.columns)\n",
    "x"
   ]
  },
  {
   "cell_type": "markdown",
   "id": "22842a10",
   "metadata": {},
   "source": [
    "We have Scaled the data using standard Scalarization method to overcome the issue of biasness"
   ]
  },
  {
   "cell_type": "markdown",
   "id": "748b80aa",
   "metadata": {},
   "source": [
    "# Checking variance inflation factor"
   ]
  },
  {
   "cell_type": "code",
   "execution_count": 34,
   "id": "7c95f060",
   "metadata": {},
   "outputs": [
    {
     "data": {
      "text/html": [
       "<div>\n",
       "<style scoped>\n",
       "    .dataframe tbody tr th:only-of-type {\n",
       "        vertical-align: middle;\n",
       "    }\n",
       "\n",
       "    .dataframe tbody tr th {\n",
       "        vertical-align: top;\n",
       "    }\n",
       "\n",
       "    .dataframe thead th {\n",
       "        text-align: right;\n",
       "    }\n",
       "</style>\n",
       "<table border=\"1\" class=\"dataframe\">\n",
       "  <thead>\n",
       "    <tr style=\"text-align: right;\">\n",
       "      <th></th>\n",
       "      <th>VIF values</th>\n",
       "      <th>Features</th>\n",
       "    </tr>\n",
       "  </thead>\n",
       "  <tbody>\n",
       "    <tr>\n",
       "      <th>0</th>\n",
       "      <td>1.027806</td>\n",
       "      <td>name</td>\n",
       "    </tr>\n",
       "    <tr>\n",
       "      <th>1</th>\n",
       "      <td>1.172002</td>\n",
       "      <td>capacity_mw</td>\n",
       "    </tr>\n",
       "    <tr>\n",
       "      <th>2</th>\n",
       "      <td>1.028109</td>\n",
       "      <td>latitude</td>\n",
       "    </tr>\n",
       "    <tr>\n",
       "      <th>3</th>\n",
       "      <td>1.137322</td>\n",
       "      <td>longitude</td>\n",
       "    </tr>\n",
       "    <tr>\n",
       "      <th>4</th>\n",
       "      <td>4.237695</td>\n",
       "      <td>generation_gwh_2014</td>\n",
       "    </tr>\n",
       "    <tr>\n",
       "      <th>5</th>\n",
       "      <td>8.074673</td>\n",
       "      <td>generation_gwh_2015</td>\n",
       "    </tr>\n",
       "    <tr>\n",
       "      <th>6</th>\n",
       "      <td>12.005234</td>\n",
       "      <td>generation_gwh_2016</td>\n",
       "    </tr>\n",
       "    <tr>\n",
       "      <th>7</th>\n",
       "      <td>11.611483</td>\n",
       "      <td>generation_gwh_2017</td>\n",
       "    </tr>\n",
       "    <tr>\n",
       "      <th>8</th>\n",
       "      <td>12.295789</td>\n",
       "      <td>generation_gwh_2018</td>\n",
       "    </tr>\n",
       "  </tbody>\n",
       "</table>\n",
       "</div>"
      ],
      "text/plain": [
       "   VIF values             Features\n",
       "0    1.027806                 name\n",
       "1    1.172002          capacity_mw\n",
       "2    1.028109             latitude\n",
       "3    1.137322            longitude\n",
       "4    4.237695  generation_gwh_2014\n",
       "5    8.074673  generation_gwh_2015\n",
       "6   12.005234  generation_gwh_2016\n",
       "7   11.611483  generation_gwh_2017\n",
       "8   12.295789  generation_gwh_2018"
      ]
     },
     "execution_count": 34,
     "metadata": {},
     "output_type": "execute_result"
    }
   ],
   "source": [
    "from statsmodels.stats.outliers_influence import variance_inflation_factor\n",
    "vif=pd.DataFrame()\n",
    "vif[\"VIF values\"]=[variance_inflation_factor(x.values,i)for i in range(len(x.columns))]\n",
    "vif[\"Features\"]=x.columns\n",
    "vif"
   ]
  },
  {
   "cell_type": "markdown",
   "id": "f7ed8743",
   "metadata": {},
   "source": [
    "# Oversampling"
   ]
  },
  {
   "cell_type": "code",
   "execution_count": 35,
   "id": "20cefc6c",
   "metadata": {},
   "outputs": [],
   "source": [
    "# oversampling the data\n",
    "from imblearn.over_sampling import SMOTE\n",
    "SM = SMOTE()\n",
    "x,y =SM.fit_resample(x,y)"
   ]
  },
  {
   "cell_type": "code",
   "execution_count": 36,
   "id": "d9388c04",
   "metadata": {},
   "outputs": [
    {
     "data": {
      "text/plain": [
       "6.0    248\n",
       "1.0    248\n",
       "7.0    248\n",
       "2.0    248\n",
       "3.0    248\n",
       "0.0    248\n",
       "5.0    248\n",
       "4.0    248\n",
       "Name: primary_fuel, dtype: int64"
      ]
     },
     "execution_count": 36,
     "metadata": {},
     "output_type": "execute_result"
    }
   ],
   "source": [
    "y.value_counts()"
   ]
  },
  {
   "cell_type": "markdown",
   "id": "fa695b42",
   "metadata": {},
   "source": [
    "# finding the best random state"
   ]
  },
  {
   "cell_type": "code",
   "execution_count": 37,
   "id": "8375b5ea",
   "metadata": {},
   "outputs": [
    {
     "name": "stdout",
     "output_type": "stream",
     "text": [
      " Best accuracy is 0.8640939597315436 at random_state 12\n"
     ]
    }
   ],
   "source": [
    "from sklearn.model_selection import train_test_split\n",
    "from sklearn.ensemble import RandomForestClassifier\n",
    "from sklearn.metrics import accuracy_score\n",
    "maxAccu=0         # maximum accuracy\n",
    "maxRS=0           # maximum random state\n",
    "for i in range(10,20):\n",
    "    x_train,x_test,y_train,y_test=train_test_split(x,y,test_size=0.30,random_state=i)\n",
    "    RFR=RandomForestClassifier()\n",
    "    RFR.fit(x_train,y_train)\n",
    "    pred=RFR.predict(x_test)\n",
    "    acc=accuracy_score(y_test,pred)   \n",
    "    if acc>maxAccu:\n",
    "        maxAccu=acc\n",
    "        maxRS=i\n",
    "print(\" Best accuracy is\",maxAccu,\"at random_state\",maxRS)"
   ]
  },
  {
   "cell_type": "markdown",
   "id": "13d9ff91",
   "metadata": {},
   "source": [
    "# creating train test split"
   ]
  },
  {
   "cell_type": "code",
   "execution_count": 38,
   "id": "b0a3048e",
   "metadata": {},
   "outputs": [],
   "source": [
    "x_train,x_test,y_train,y_test= train_test_split(x,y,test_size=0.30,random_state=maxRS)"
   ]
  },
  {
   "cell_type": "markdown",
   "id": "5281eb39",
   "metadata": {},
   "source": [
    "# classification Algorithms"
   ]
  },
  {
   "cell_type": "code",
   "execution_count": 39,
   "id": "9924e401",
   "metadata": {},
   "outputs": [],
   "source": [
    "from sklearn.ensemble import RandomForestClassifier,ExtraTreesClassifier\n",
    "from sklearn.linear_model import LogisticRegression\n",
    "from sklearn.svm import SVC\n",
    "from sklearn.ensemble import GradientBoostingClassifier,AdaBoostClassifier,BaggingClassifier\n",
    "from sklearn.metrics import classification_report,confusion_matrix,roc_curve,accuracy_score\n",
    "from sklearn.model_selection import cross_val_score"
   ]
  },
  {
   "cell_type": "code",
   "execution_count": 40,
   "id": "2ec64663",
   "metadata": {},
   "outputs": [
    {
     "name": "stdout",
     "output_type": "stream",
     "text": [
      "0.8523489932885906\n",
      "[[69  3  0  1  0  0  0  1]\n",
      " [ 0 50  9  4  2  3  2  2]\n",
      " [ 0  3 45  2  0  2  0  0]\n",
      " [ 3  4  5 55  4  0  4  2]\n",
      " [ 0  1  0  0 72  1  1  0]\n",
      " [ 0  0  0  0  0 70  0  1]\n",
      " [ 1  4  0  1  0  0 85  3]\n",
      " [ 5  1  3  5  0  0  5 62]]\n",
      "              precision    recall  f1-score   support\n",
      "\n",
      "         0.0       0.88      0.93      0.91        74\n",
      "         1.0       0.76      0.69      0.72        72\n",
      "         2.0       0.73      0.87      0.79        52\n",
      "         3.0       0.81      0.71      0.76        77\n",
      "         4.0       0.92      0.96      0.94        75\n",
      "         5.0       0.92      0.99      0.95        71\n",
      "         6.0       0.88      0.90      0.89        94\n",
      "         7.0       0.87      0.77      0.82        81\n",
      "\n",
      "    accuracy                           0.85       596\n",
      "   macro avg       0.85      0.85      0.85       596\n",
      "weighted avg       0.85      0.85      0.85       596\n",
      "\n"
     ]
    }
   ],
   "source": [
    "# checking accuracy for RandomForestclassifier\n",
    "RFC=RandomForestClassifier()\n",
    "RFC.fit(x_train,y_train)\n",
    "predRFC=RFC.predict(x_test)\n",
    "print(accuracy_score(y_test,predRFC))\n",
    "print(confusion_matrix(y_test,predRFC))\n",
    "print(classification_report(y_test,predRFC))"
   ]
  },
  {
   "cell_type": "code",
   "execution_count": 41,
   "id": "3a0a53f2",
   "metadata": {},
   "outputs": [
    {
     "name": "stdout",
     "output_type": "stream",
     "text": [
      "0.5453020134228188\n",
      "[[51  0  0  0  0  0  5 18]\n",
      " [ 1 20 14  7 16  3  8  3]\n",
      " [ 0  8 33  3  2  1  0  5]\n",
      " [ 7  5 12 25  4 11 11  2]\n",
      " [ 0 10  0  2 61  2  0  0]\n",
      " [ 4  0  2  7  0 36  0 22]\n",
      " [12  0  0  1  0  1 73  7]\n",
      " [28  3  2  1  0  2 19 26]]\n",
      "              precision    recall  f1-score   support\n",
      "\n",
      "         0.0       0.50      0.69      0.58        74\n",
      "         1.0       0.43      0.28      0.34        72\n",
      "         2.0       0.52      0.63      0.57        52\n",
      "         3.0       0.54      0.32      0.41        77\n",
      "         4.0       0.73      0.81      0.77        75\n",
      "         5.0       0.64      0.51      0.57        71\n",
      "         6.0       0.63      0.78      0.70        94\n",
      "         7.0       0.31      0.32      0.32        81\n",
      "\n",
      "    accuracy                           0.55       596\n",
      "   macro avg       0.54      0.54      0.53       596\n",
      "weighted avg       0.54      0.55      0.53       596\n",
      "\n"
     ]
    }
   ],
   "source": [
    "# checking accuracy for LogisticRegression\n",
    "LR=LogisticRegression()\n",
    "LR.fit(x_train,y_train)\n",
    "predLR=LR.predict(x_test)\n",
    "print(accuracy_score(y_test,predLR))\n",
    "print(confusion_matrix(y_test,predLR))\n",
    "print(classification_report(y_test,predLR))"
   ]
  },
  {
   "cell_type": "code",
   "execution_count": 42,
   "id": "894f9bd3",
   "metadata": {},
   "outputs": [
    {
     "name": "stdout",
     "output_type": "stream",
     "text": [
      "0.6929530201342282\n",
      "[[69  1  0  0  0  0  4  0]\n",
      " [ 2 29 13  7  7  2  9  3]\n",
      " [ 1  3 38  3  1  5  0  1]\n",
      " [ 9  4 12 38  3  3  7  1]\n",
      " [ 0  1  1  0 73  0  0  0]\n",
      " [ 3  0  0  0  0 68  0  0]\n",
      " [ 9  2  0  0  0  0 65 18]\n",
      " [27  3  0  0  0  3 15 33]]\n",
      "              precision    recall  f1-score   support\n",
      "\n",
      "         0.0       0.57      0.93      0.71        74\n",
      "         1.0       0.67      0.40      0.50        72\n",
      "         2.0       0.59      0.73      0.66        52\n",
      "         3.0       0.79      0.49      0.61        77\n",
      "         4.0       0.87      0.97      0.92        75\n",
      "         5.0       0.84      0.96      0.89        71\n",
      "         6.0       0.65      0.69      0.67        94\n",
      "         7.0       0.59      0.41      0.48        81\n",
      "\n",
      "    accuracy                           0.69       596\n",
      "   macro avg       0.70      0.70      0.68       596\n",
      "weighted avg       0.70      0.69      0.68       596\n",
      "\n"
     ]
    }
   ],
   "source": [
    "# checking accuracy for Support Vector Machine Classifier\n",
    "svc=SVC()\n",
    "svc.fit(x_train,y_train)\n",
    "predsvc=svc.predict(x_test)\n",
    "print(accuracy_score(y_test,predsvc))\n",
    "print(confusion_matrix(y_test,predsvc))\n",
    "print(classification_report(y_test,predsvc))"
   ]
  },
  {
   "cell_type": "code",
   "execution_count": 43,
   "id": "53c93b21",
   "metadata": {},
   "outputs": [
    {
     "name": "stdout",
     "output_type": "stream",
     "text": [
      "0.8187919463087249\n",
      "[[70  2  0  1  0  0  0  1]\n",
      " [ 2 46  7  6  5  2  1  3]\n",
      " [ 0  1 44  3  0  3  0  1]\n",
      " [ 3  4  6 53  4  0  4  3]\n",
      " [ 0  5  2  1 66  1  0  0]\n",
      " [ 0  0  0  0  0 71  0  0]\n",
      " [ 2  2  3  3  0  0 78  6]\n",
      " [ 7  3  1  3  0  0  7 60]]\n",
      "              precision    recall  f1-score   support\n",
      "\n",
      "         0.0       0.83      0.95      0.89        74\n",
      "         1.0       0.73      0.64      0.68        72\n",
      "         2.0       0.70      0.85      0.77        52\n",
      "         3.0       0.76      0.69      0.72        77\n",
      "         4.0       0.88      0.88      0.88        75\n",
      "         5.0       0.92      1.00      0.96        71\n",
      "         6.0       0.87      0.83      0.85        94\n",
      "         7.0       0.81      0.74      0.77        81\n",
      "\n",
      "    accuracy                           0.82       596\n",
      "   macro avg       0.81      0.82      0.81       596\n",
      "weighted avg       0.82      0.82      0.82       596\n",
      "\n"
     ]
    }
   ],
   "source": [
    "# checking accuracy for GradientBoostingClassifier\n",
    "GB=GradientBoostingClassifier()\n",
    "GB.fit(x_train,y_train)\n",
    "predGB=GB.predict(x_test)\n",
    "print(accuracy_score(y_test,predGB))\n",
    "print(confusion_matrix(y_test,predGB))\n",
    "print(classification_report(y_test,predGB))"
   ]
  },
  {
   "cell_type": "code",
   "execution_count": 44,
   "id": "d14ade77",
   "metadata": {},
   "outputs": [
    {
     "name": "stdout",
     "output_type": "stream",
     "text": [
      "0.2902684563758389\n",
      "[[74  0  0  0  0  0  0  0]\n",
      " [18  1 28  0 25  0  0  0]\n",
      " [ 8  0 44  0  0  0  0  0]\n",
      " [22  3 51  0  1  0  0  0]\n",
      " [ 2 12  6  1 54  0  0  0]\n",
      " [26  0 45  0  0  0  0  0]\n",
      " [94  0  0  0  0  0  0  0]\n",
      " [81  0  0  0  0  0  0  0]]\n",
      "              precision    recall  f1-score   support\n",
      "\n",
      "         0.0       0.23      1.00      0.37        74\n",
      "         1.0       0.06      0.01      0.02        72\n",
      "         2.0       0.25      0.85      0.39        52\n",
      "         3.0       0.00      0.00      0.00        77\n",
      "         4.0       0.68      0.72      0.70        75\n",
      "         5.0       0.00      0.00      0.00        71\n",
      "         6.0       0.00      0.00      0.00        94\n",
      "         7.0       0.00      0.00      0.00        81\n",
      "\n",
      "    accuracy                           0.29       596\n",
      "   macro avg       0.15      0.32      0.18       596\n",
      "weighted avg       0.14      0.29      0.17       596\n",
      "\n"
     ]
    }
   ],
   "source": [
    "# checking accuracy for AdaBoost Classifier\n",
    "ABC=AdaBoostClassifier()\n",
    "ABC.fit(x_train,y_train)\n",
    "predABC=ABC.predict(x_test)\n",
    "print(accuracy_score(y_test,predABC))\n",
    "print(confusion_matrix(y_test,predABC))\n",
    "print(classification_report(y_test,predABC))"
   ]
  },
  {
   "cell_type": "code",
   "execution_count": 45,
   "id": "60a39d72",
   "metadata": {},
   "outputs": [
    {
     "name": "stdout",
     "output_type": "stream",
     "text": [
      "0.8338926174496645\n",
      "[[69  3  1  0  0  0  0  1]\n",
      " [ 1 48  6  7  3  3  3  1]\n",
      " [ 0  0 44  3  0  4  0  1]\n",
      " [ 2  2  9 55  3  0  3  3]\n",
      " [ 0  1  0  2 70  1  0  1]\n",
      " [ 0  0  0  0  0 70  0  1]\n",
      " [ 2  0  1  1  0  0 88  2]\n",
      " [ 7  4  1  5  0  0 11 53]]\n",
      "              precision    recall  f1-score   support\n",
      "\n",
      "         0.0       0.85      0.93      0.89        74\n",
      "         1.0       0.83      0.67      0.74        72\n",
      "         2.0       0.71      0.85      0.77        52\n",
      "         3.0       0.75      0.71      0.73        77\n",
      "         4.0       0.92      0.93      0.93        75\n",
      "         5.0       0.90      0.99      0.94        71\n",
      "         6.0       0.84      0.94      0.88        94\n",
      "         7.0       0.84      0.65      0.74        81\n",
      "\n",
      "    accuracy                           0.83       596\n",
      "   macro avg       0.83      0.83      0.83       596\n",
      "weighted avg       0.83      0.83      0.83       596\n",
      "\n"
     ]
    }
   ],
   "source": [
    "# checking accuracy for Bagging Classifier\n",
    "BC=BaggingClassifier()\n",
    "BC.fit(x_train,y_train)\n",
    "predBC=BC.predict(x_test)\n",
    "print(accuracy_score(y_test,predBC))\n",
    "print(confusion_matrix(y_test,predBC))\n",
    "print(classification_report(y_test,predBC))"
   ]
  },
  {
   "cell_type": "code",
   "execution_count": 46,
   "id": "cfc4281a",
   "metadata": {},
   "outputs": [
    {
     "name": "stdout",
     "output_type": "stream",
     "text": [
      "0.8640939597315436\n",
      "[[69  2  0  1  0  0  0  2]\n",
      " [ 1 47  9  5  5  2  2  1]\n",
      " [ 0  2 48  2  0  0  0  0]\n",
      " [ 4  4  4 55  3  0  2  5]\n",
      " [ 0  1  0  0 74  0  0  0]\n",
      " [ 0  0  1  0  0 69  0  1]\n",
      " [ 0  3  0  0  0  0 86  5]\n",
      " [ 3  0  1  3  0  0  7 67]]\n",
      "              precision    recall  f1-score   support\n",
      "\n",
      "         0.0       0.90      0.93      0.91        74\n",
      "         1.0       0.80      0.65      0.72        72\n",
      "         2.0       0.76      0.92      0.83        52\n",
      "         3.0       0.83      0.71      0.77        77\n",
      "         4.0       0.90      0.99      0.94        75\n",
      "         5.0       0.97      0.97      0.97        71\n",
      "         6.0       0.89      0.91      0.90        94\n",
      "         7.0       0.83      0.83      0.83        81\n",
      "\n",
      "    accuracy                           0.86       596\n",
      "   macro avg       0.86      0.87      0.86       596\n",
      "weighted avg       0.86      0.86      0.86       596\n",
      "\n"
     ]
    }
   ],
   "source": [
    "# checking accuracy for ExtraTreesClassifier\n",
    "ET=ExtraTreesClassifier()\n",
    "ET.fit(x_train,y_train)\n",
    "predET=ET.predict(x_test)\n",
    "print(accuracy_score(y_test,predET))\n",
    "print(confusion_matrix(y_test,predET))\n",
    "print(classification_report(y_test,predET))"
   ]
  },
  {
   "cell_type": "markdown",
   "id": "de4ba2fe",
   "metadata": {},
   "source": [
    "# cross valdation score"
   ]
  },
  {
   "cell_type": "code",
   "execution_count": 47,
   "id": "786770a6",
   "metadata": {},
   "outputs": [],
   "source": [
    "from sklearn.model_selection import cross_val_score"
   ]
  },
  {
   "cell_type": "code",
   "execution_count": 48,
   "id": "59a06f58",
   "metadata": {},
   "outputs": [
    {
     "name": "stdout",
     "output_type": "stream",
     "text": [
      "[0.81612091 0.8186398  0.8488665  0.83879093 0.82323232]\n",
      "0.8291300918504948\n",
      "Difference between Accuracy score and cross validation score is- 0.023218901438095796\n"
     ]
    }
   ],
   "source": [
    "# checking cv score for Random Forest Classifier\n",
    "score=cross_val_score(RFC,x,y)\n",
    "print(score)\n",
    "print(score.mean())\n",
    "print('Difference between Accuracy score and cross validation score is-',accuracy_score(y_test,predRFC)-score.mean())"
   ]
  },
  {
   "cell_type": "code",
   "execution_count": 49,
   "id": "f5da0a0d",
   "metadata": {},
   "outputs": [
    {
     "name": "stdout",
     "output_type": "stream",
     "text": [
      "[0.4231738  0.52141058 0.4861461  0.49874055 0.49242424]\n",
      "0.48437905503396694\n",
      "Difference between Accuracy score and cross validation score is- 0.06092295838885187\n"
     ]
    }
   ],
   "source": [
    "# checking cv score for Logistic Regression\n",
    "score=cross_val_score(LR,x,y)\n",
    "print(score)\n",
    "print(score.mean())\n",
    "print('Difference between Accuracy score and cross validation score is-',accuracy_score(y_test,predLR)-score.mean())"
   ]
  },
  {
   "cell_type": "code",
   "execution_count": 50,
   "id": "47d54db8",
   "metadata": {},
   "outputs": [
    {
     "name": "stdout",
     "output_type": "stream",
     "text": [
      "[0.77078086 0.76322418 0.80856423 0.79848866 0.75505051]\n",
      "0.7792216879118643\n",
      "Difference between Accuracy score and cross validation score is- 0.03957025839686057\n"
     ]
    }
   ],
   "source": [
    "# checking cv score for Gradient Boosting Classifier\n",
    "score=cross_val_score(GB,x,y)\n",
    "print(score)\n",
    "print(score.mean())\n",
    "print('Difference between Accuracy score and cross validation score is-',accuracy_score(y_test,predGB)-score.mean())"
   ]
  },
  {
   "cell_type": "code",
   "execution_count": 51,
   "id": "bf3746f4",
   "metadata": {},
   "outputs": [
    {
     "name": "stdout",
     "output_type": "stream",
     "text": [
      "[0.62216625 0.67254408 0.68010076 0.70780856 0.66161616]\n",
      "0.6688471617942652\n",
      "Difference between Accuracy score and cross validation score is- 0.024105858339963038\n"
     ]
    }
   ],
   "source": [
    "# checking cv score for Support vector machine Classifier\n",
    "score=cross_val_score(svc,x,y)\n",
    "print(score)\n",
    "print(score.mean())\n",
    "print('Difference between Accuracy score and cross validation score is-',accuracy_score(y_test,predsvc)-score.mean())"
   ]
  },
  {
   "cell_type": "code",
   "execution_count": 52,
   "id": "9ba41a9c",
   "metadata": {},
   "outputs": [
    {
     "name": "stdout",
     "output_type": "stream",
     "text": [
      "[0.2720403  0.33501259 0.31989924 0.31234257 0.34090909]\n",
      "0.31604076024730937\n",
      "Difference between Accuracy score and cross validation score is- -0.025772303871470448\n"
     ]
    }
   ],
   "source": [
    "# checking cv score for Adaboost Classifier\n",
    "score=cross_val_score(ABC,x,y)\n",
    "print(score)\n",
    "print(score.mean())\n",
    "print('Difference between Accuracy score and cross validation score is-',accuracy_score(y_test,predABC)-score.mean())"
   ]
  },
  {
   "cell_type": "code",
   "execution_count": 53,
   "id": "99686e06",
   "metadata": {},
   "outputs": [
    {
     "name": "stdout",
     "output_type": "stream",
     "text": [
      "[0.76070529 0.79093199 0.80856423 0.82619647 0.80808081]\n",
      "0.7988957585934916\n",
      "Difference between Accuracy score and cross validation score is- 0.034996858856172874\n"
     ]
    }
   ],
   "source": [
    "# checking cv score for Bagging Classifier\n",
    "score=cross_val_score(BC,x,y)\n",
    "print(score)\n",
    "print(score.mean())\n",
    "print('Difference between Accuracy score and cross validation score is-',accuracy_score(y_test,predBC)-score.mean())"
   ]
  },
  {
   "cell_type": "code",
   "execution_count": 54,
   "id": "3994922e",
   "metadata": {},
   "outputs": [
    {
     "name": "stdout",
     "output_type": "stream",
     "text": [
      "[0.82871537 0.83627204 0.85138539 0.85138539 0.85858586]\n",
      "0.8452688089967687\n",
      "Difference between Accuracy score and cross validation score is- 0.018825150734774865\n"
     ]
    }
   ],
   "source": [
    "# checking cv score for Support ExtraTrees Classifier\n",
    "score=cross_val_score(ET,x,y)\n",
    "print(score)\n",
    "print(score.mean())\n",
    "print('Difference between Accuracy score and cross validation score is-',accuracy_score(y_test,predET)-score.mean())"
   ]
  },
  {
   "cell_type": "markdown",
   "id": "8b661d10",
   "metadata": {},
   "source": [
    "Extratreeclassifier is our best model"
   ]
  },
  {
   "cell_type": "markdown",
   "id": "85151aa2",
   "metadata": {},
   "source": [
    "# Hyper parameter tuning"
   ]
  },
  {
   "cell_type": "code",
   "execution_count": 55,
   "id": "d395dfb3",
   "metadata": {},
   "outputs": [],
   "source": [
    "# Extra Trees Classifier\n",
    "from sklearn.model_selection import GridSearchCV\n",
    "\n",
    "parameters={'criterion':['gini','entropy'],\n",
    "           'random_state':[10,50,1000],\n",
    "           'max_depth':[0,10,20],\n",
    "           'n_jobs':[-2,-1,1],\n",
    "           'n_estimators':[50,100,200,300]}"
   ]
  },
  {
   "cell_type": "code",
   "execution_count": 56,
   "id": "833bb706",
   "metadata": {},
   "outputs": [],
   "source": [
    "GCV=GridSearchCV(ExtraTreesClassifier(),parameters,cv=5)"
   ]
  },
  {
   "cell_type": "code",
   "execution_count": 57,
   "id": "58cc026e",
   "metadata": {},
   "outputs": [
    {
     "data": {
      "text/plain": [
       "GridSearchCV(cv=5, estimator=ExtraTreesClassifier(),\n",
       "             param_grid={'criterion': ['gini', 'entropy'],\n",
       "                         'max_depth': [0, 10, 20],\n",
       "                         'n_estimators': [50, 100, 200, 300],\n",
       "                         'n_jobs': [-2, -1, 1],\n",
       "                         'random_state': [10, 50, 1000]})"
      ]
     },
     "execution_count": 57,
     "metadata": {},
     "output_type": "execute_result"
    }
   ],
   "source": [
    "GCV.fit(x_train,y_train)"
   ]
  },
  {
   "cell_type": "code",
   "execution_count": 58,
   "id": "68aeaef8",
   "metadata": {},
   "outputs": [
    {
     "data": {
      "text/plain": [
       "{'criterion': 'gini',\n",
       " 'max_depth': 20,\n",
       " 'n_estimators': 200,\n",
       " 'n_jobs': -2,\n",
       " 'random_state': 50}"
      ]
     },
     "execution_count": 58,
     "metadata": {},
     "output_type": "execute_result"
    }
   ],
   "source": [
    "GCV.best_params_"
   ]
  },
  {
   "cell_type": "code",
   "execution_count": 59,
   "id": "46785151",
   "metadata": {},
   "outputs": [
    {
     "name": "stdout",
     "output_type": "stream",
     "text": [
      "87.08053691275168\n"
     ]
    }
   ],
   "source": [
    "Final_model=ExtraTreesClassifier(criterion= 'gini',max_depth= 20, n_estimators= 200,n_jobs= -2,random_state= 10)\n",
    "Final_model.fit(x_train,y_train)\n",
    "pred=Final_model.predict(x_test)\n",
    "acc=accuracy_score(y_test,pred)\n",
    "print(acc*100)"
   ]
  },
  {
   "cell_type": "markdown",
   "id": "f105352c",
   "metadata": {},
   "source": [
    "after hyper parameter tuning accuracy decreased"
   ]
  },
  {
   "cell_type": "markdown",
   "id": "0cbe8bdf",
   "metadata": {},
   "source": [
    "# saving the model"
   ]
  },
  {
   "cell_type": "code",
   "execution_count": 60,
   "id": "03afb007",
   "metadata": {},
   "outputs": [
    {
     "data": {
      "text/plain": [
       "['Gobalpowerplant.pkl']"
      ]
     },
     "execution_count": 60,
     "metadata": {},
     "output_type": "execute_result"
    }
   ],
   "source": [
    "import joblib\n",
    "joblib.dump(Final_model,\"Gobalpowerplant.pkl\")"
   ]
  },
  {
   "cell_type": "markdown",
   "id": "c6edeb03",
   "metadata": {},
   "source": [
    "# predicting by using the saved model"
   ]
  },
  {
   "cell_type": "code",
   "execution_count": 61,
   "id": "834135f8",
   "metadata": {},
   "outputs": [
    {
     "data": {
      "text/plain": [
       "array([2., 1., 0., 2., 4., 0., 1., 6., 0., 6., 7., 2., 0., 1., 1., 0., 1.,\n",
       "       4., 5., 2., 3., 3., 6., 4., 7., 4., 3., 2., 3., 3., 0., 1., 1., 7.,\n",
       "       5., 2., 6., 6., 6., 6., 0., 3., 4., 4., 3., 1., 4., 0., 1., 6., 0.,\n",
       "       6., 6., 2., 2., 6., 3., 1., 1., 5., 1., 3., 6., 7., 0., 6., 4., 5.,\n",
       "       0., 6., 0., 7., 0., 6., 6., 4., 0., 0., 3., 3., 4., 3., 4., 5., 6.,\n",
       "       0., 4., 0., 6., 0., 0., 4., 2., 6., 1., 2., 7., 7., 4., 1., 5., 2.,\n",
       "       3., 3., 2., 5., 0., 2., 7., 4., 7., 0., 6., 1., 3., 7., 0., 1., 1.,\n",
       "       5., 7., 3., 7., 1., 6., 7., 1., 3., 4., 6., 4., 0., 7., 0., 0., 5.,\n",
       "       2., 3., 5., 1., 3., 2., 5., 1., 3., 0., 1., 3., 3., 6., 7., 1., 3.,\n",
       "       5., 7., 6., 6., 1., 5., 3., 6., 1., 6., 5., 5., 2., 4., 4., 2., 4.,\n",
       "       0., 4., 7., 7., 5., 6., 1., 5., 3., 4., 5., 1., 6., 5., 6., 6., 4.,\n",
       "       6., 0., 6., 4., 0., 0., 2., 7., 0., 7., 4., 2., 4., 3., 2., 2., 4.,\n",
       "       1., 3., 0., 5., 6., 6., 3., 7., 6., 3., 6., 4., 6., 7., 5., 4., 7.,\n",
       "       4., 4., 7., 4., 0., 5., 5., 4., 4., 3., 6., 3., 6., 2., 2., 2., 2.,\n",
       "       7., 0., 5., 7., 2., 5., 5., 6., 0., 2., 7., 0., 1., 3., 2., 6., 4.,\n",
       "       6., 2., 0., 0., 6., 0., 4., 4., 6., 6., 1., 6., 7., 7., 0., 5., 3.,\n",
       "       0., 6., 3., 3., 0., 3., 5., 1., 5., 3., 5., 6., 2., 5., 5., 1., 2.,\n",
       "       7., 7., 4., 7., 7., 2., 0., 6., 3., 0., 1., 4., 0., 3., 0., 1., 1.,\n",
       "       7., 1., 7., 4., 3., 4., 0., 0., 7., 4., 2., 4., 4., 6., 6., 5., 4.,\n",
       "       0., 4., 1., 5., 1., 7., 2., 7., 4., 6., 6., 3., 2., 4., 2., 4., 4.,\n",
       "       1., 1., 4., 7., 7., 7., 5., 3., 0., 5., 6., 7., 3., 7., 5., 6., 3.,\n",
       "       4., 5., 7., 5., 7., 0., 0., 0., 2., 1., 0., 3., 4., 6., 0., 2., 6.,\n",
       "       2., 2., 7., 2., 7., 0., 7., 1., 6., 3., 4., 5., 6., 5., 4., 3., 4.,\n",
       "       6., 2., 7., 5., 2., 5., 0., 2., 5., 4., 4., 5., 4., 7., 0., 2., 4.,\n",
       "       5., 4., 1., 6., 0., 7., 6., 7., 0., 1., 4., 0., 5., 0., 2., 2., 5.,\n",
       "       0., 1., 2., 7., 3., 1., 0., 3., 6., 5., 1., 2., 4., 1., 2., 6., 3.,\n",
       "       5., 4., 6., 4., 6., 5., 5., 2., 4., 7., 3., 4., 3., 0., 3., 0., 7.,\n",
       "       3., 6., 6., 5., 7., 1., 1., 6., 3., 7., 6., 2., 4., 6., 6., 7., 0.,\n",
       "       1., 6., 7., 6., 1., 7., 1., 0., 7., 4., 2., 7., 4., 6., 5., 6., 6.,\n",
       "       5., 7., 0., 5., 1., 0., 5., 0., 5., 0., 7., 6., 4., 7., 6., 6., 5.,\n",
       "       6., 4., 4., 7., 2., 0., 6., 5., 0., 4., 6., 5., 2., 3., 4., 3., 0.,\n",
       "       7., 5., 1., 3., 6., 3., 0., 6., 6., 0., 1., 6., 5., 2., 3., 5., 3.,\n",
       "       4., 7., 5., 4., 5., 7., 6., 3., 5., 3., 4., 4., 3., 5., 0., 7., 1.,\n",
       "       3., 6., 0., 6., 7., 2., 2., 3., 6., 6., 1., 5., 3., 7., 2., 1., 1.,\n",
       "       6., 0., 1., 1., 1., 6., 2., 4., 0., 5., 0., 7., 5., 2., 7., 2., 5.,\n",
       "       0.])"
      ]
     },
     "execution_count": 61,
     "metadata": {},
     "output_type": "execute_result"
    }
   ],
   "source": [
    "# lets load the saved model and get the prediction\n",
    "model=joblib.load('Gobalpowerplant.pkl')\n",
    "\n",
    "# predictions\n",
    "prediction=model.predict(x_test)\n",
    "prediction"
   ]
  },
  {
   "cell_type": "markdown",
   "id": "b838b1af",
   "metadata": {},
   "source": [
    "# check how my model is behaving"
   ]
  },
  {
   "cell_type": "code",
   "execution_count": 62,
   "id": "8c753bb8",
   "metadata": {},
   "outputs": [
    {
     "data": {
      "text/html": [
       "<div>\n",
       "<style scoped>\n",
       "    .dataframe tbody tr th:only-of-type {\n",
       "        vertical-align: middle;\n",
       "    }\n",
       "\n",
       "    .dataframe tbody tr th {\n",
       "        vertical-align: top;\n",
       "    }\n",
       "\n",
       "    .dataframe thead th {\n",
       "        text-align: right;\n",
       "    }\n",
       "</style>\n",
       "<table border=\"1\" class=\"dataframe\">\n",
       "  <thead>\n",
       "    <tr style=\"text-align: right;\">\n",
       "      <th></th>\n",
       "      <th>0</th>\n",
       "      <th>1</th>\n",
       "      <th>2</th>\n",
       "      <th>3</th>\n",
       "      <th>4</th>\n",
       "      <th>5</th>\n",
       "      <th>6</th>\n",
       "      <th>7</th>\n",
       "      <th>8</th>\n",
       "      <th>9</th>\n",
       "      <th>...</th>\n",
       "      <th>586</th>\n",
       "      <th>587</th>\n",
       "      <th>588</th>\n",
       "      <th>589</th>\n",
       "      <th>590</th>\n",
       "      <th>591</th>\n",
       "      <th>592</th>\n",
       "      <th>593</th>\n",
       "      <th>594</th>\n",
       "      <th>595</th>\n",
       "    </tr>\n",
       "  </thead>\n",
       "  <tbody>\n",
       "    <tr>\n",
       "      <th>Predicted FUEL</th>\n",
       "      <td>2.0</td>\n",
       "      <td>1.0</td>\n",
       "      <td>0.0</td>\n",
       "      <td>2.0</td>\n",
       "      <td>4.0</td>\n",
       "      <td>0.0</td>\n",
       "      <td>1.0</td>\n",
       "      <td>6.0</td>\n",
       "      <td>0.0</td>\n",
       "      <td>6.0</td>\n",
       "      <td>...</td>\n",
       "      <td>0.0</td>\n",
       "      <td>5.0</td>\n",
       "      <td>0.0</td>\n",
       "      <td>7.0</td>\n",
       "      <td>5.0</td>\n",
       "      <td>2.0</td>\n",
       "      <td>7.0</td>\n",
       "      <td>2.0</td>\n",
       "      <td>5.0</td>\n",
       "      <td>0.0</td>\n",
       "    </tr>\n",
       "    <tr>\n",
       "      <th>Original FUEL</th>\n",
       "      <td>2.0</td>\n",
       "      <td>1.0</td>\n",
       "      <td>0.0</td>\n",
       "      <td>4.0</td>\n",
       "      <td>4.0</td>\n",
       "      <td>0.0</td>\n",
       "      <td>1.0</td>\n",
       "      <td>6.0</td>\n",
       "      <td>0.0</td>\n",
       "      <td>6.0</td>\n",
       "      <td>...</td>\n",
       "      <td>0.0</td>\n",
       "      <td>5.0</td>\n",
       "      <td>0.0</td>\n",
       "      <td>7.0</td>\n",
       "      <td>5.0</td>\n",
       "      <td>5.0</td>\n",
       "      <td>7.0</td>\n",
       "      <td>1.0</td>\n",
       "      <td>5.0</td>\n",
       "      <td>0.0</td>\n",
       "    </tr>\n",
       "  </tbody>\n",
       "</table>\n",
       "<p>2 rows × 596 columns</p>\n",
       "</div>"
      ],
      "text/plain": [
       "                0    1    2    3    4    5    6    7    8    9    ...  586  \\\n",
       "Predicted FUEL  2.0  1.0  0.0  2.0  4.0  0.0  1.0  6.0  0.0  6.0  ...  0.0   \n",
       "Original FUEL   2.0  1.0  0.0  4.0  4.0  0.0  1.0  6.0  0.0  6.0  ...  0.0   \n",
       "\n",
       "                587  588  589  590  591  592  593  594  595  \n",
       "Predicted FUEL  5.0  0.0  7.0  5.0  2.0  7.0  2.0  5.0  0.0  \n",
       "Original FUEL   5.0  0.0  7.0  5.0  5.0  7.0  1.0  5.0  0.0  \n",
       "\n",
       "[2 rows x 596 columns]"
      ]
     },
     "execution_count": 62,
     "metadata": {},
     "output_type": "execute_result"
    }
   ],
   "source": [
    "# creating a dataframe\n",
    "conclusion=pd.DataFrame([model.predict(x_test)[:],y_test[:]],index=[\"Predicted FUEL\",\"Original FUEL\"])\n",
    "conclusion"
   ]
  },
  {
   "cell_type": "code",
   "execution_count": null,
   "id": "196cea17",
   "metadata": {},
   "outputs": [],
   "source": []
  },
  {
   "cell_type": "code",
   "execution_count": null,
   "id": "0caf6e05",
   "metadata": {},
   "outputs": [],
   "source": []
  },
  {
   "cell_type": "code",
   "execution_count": null,
   "id": "aa1b553a",
   "metadata": {},
   "outputs": [],
   "source": []
  },
  {
   "cell_type": "code",
   "execution_count": null,
   "id": "eb4df79c",
   "metadata": {},
   "outputs": [],
   "source": []
  },
  {
   "cell_type": "code",
   "execution_count": null,
   "id": "232ff251",
   "metadata": {},
   "outputs": [],
   "source": []
  },
  {
   "cell_type": "markdown",
   "id": "f601843c",
   "metadata": {},
   "source": [
    "# creating model for Predicting capacity megawatt"
   ]
  },
  {
   "cell_type": "markdown",
   "id": "38bd5240",
   "metadata": {},
   "source": [
    "## seperating features and label"
   ]
  },
  {
   "cell_type": "code",
   "execution_count": 63,
   "id": "597e7d57",
   "metadata": {},
   "outputs": [],
   "source": [
    "x=df.drop(\"capacity_mw\",axis=1)\n",
    "y=df[\"capacity_mw\"]"
   ]
  },
  {
   "cell_type": "markdown",
   "id": "8f07294c",
   "metadata": {},
   "source": [
    "# Feature Scaling using Standard Scalarization"
   ]
  },
  {
   "cell_type": "code",
   "execution_count": 64,
   "id": "2f910e1c",
   "metadata": {},
   "outputs": [],
   "source": [
    "#from sklearn.preprocessing import StandardScaler\n",
    "#scaler=StandardScaler()\n",
    "#x=pd.DataFrame(scaler.fit_transform(x),columns=x.columns)\n",
    "#x"
   ]
  },
  {
   "cell_type": "markdown",
   "id": "dae45fdf",
   "metadata": {},
   "source": [
    "We have Scaled the data using standard Scalarization method to overcome the issue of biasness"
   ]
  },
  {
   "cell_type": "markdown",
   "id": "ece23ba5",
   "metadata": {},
   "source": [
    "# Checking variance inflation factor"
   ]
  },
  {
   "cell_type": "code",
   "execution_count": 65,
   "id": "537d6606",
   "metadata": {},
   "outputs": [
    {
     "data": {
      "text/html": [
       "<div>\n",
       "<style scoped>\n",
       "    .dataframe tbody tr th:only-of-type {\n",
       "        vertical-align: middle;\n",
       "    }\n",
       "\n",
       "    .dataframe tbody tr th {\n",
       "        vertical-align: top;\n",
       "    }\n",
       "\n",
       "    .dataframe thead th {\n",
       "        text-align: right;\n",
       "    }\n",
       "</style>\n",
       "<table border=\"1\" class=\"dataframe\">\n",
       "  <thead>\n",
       "    <tr style=\"text-align: right;\">\n",
       "      <th></th>\n",
       "      <th>VIF values</th>\n",
       "      <th>Features</th>\n",
       "    </tr>\n",
       "  </thead>\n",
       "  <tbody>\n",
       "    <tr>\n",
       "      <th>0</th>\n",
       "      <td>4.082015</td>\n",
       "      <td>name</td>\n",
       "    </tr>\n",
       "    <tr>\n",
       "      <th>1</th>\n",
       "      <td>13.102557</td>\n",
       "      <td>latitude</td>\n",
       "    </tr>\n",
       "    <tr>\n",
       "      <th>2</th>\n",
       "      <td>22.602110</td>\n",
       "      <td>longitude</td>\n",
       "    </tr>\n",
       "    <tr>\n",
       "      <th>3</th>\n",
       "      <td>2.990620</td>\n",
       "      <td>primary_fuel</td>\n",
       "    </tr>\n",
       "    <tr>\n",
       "      <th>4</th>\n",
       "      <td>27.560005</td>\n",
       "      <td>generation_gwh_2014</td>\n",
       "    </tr>\n",
       "    <tr>\n",
       "      <th>5</th>\n",
       "      <td>46.931108</td>\n",
       "      <td>generation_gwh_2015</td>\n",
       "    </tr>\n",
       "    <tr>\n",
       "      <th>6</th>\n",
       "      <td>67.891574</td>\n",
       "      <td>generation_gwh_2016</td>\n",
       "    </tr>\n",
       "    <tr>\n",
       "      <th>7</th>\n",
       "      <td>65.197402</td>\n",
       "      <td>generation_gwh_2017</td>\n",
       "    </tr>\n",
       "    <tr>\n",
       "      <th>8</th>\n",
       "      <td>67.287130</td>\n",
       "      <td>generation_gwh_2018</td>\n",
       "    </tr>\n",
       "  </tbody>\n",
       "</table>\n",
       "</div>"
      ],
      "text/plain": [
       "   VIF values             Features\n",
       "0    4.082015                 name\n",
       "1   13.102557             latitude\n",
       "2   22.602110            longitude\n",
       "3    2.990620         primary_fuel\n",
       "4   27.560005  generation_gwh_2014\n",
       "5   46.931108  generation_gwh_2015\n",
       "6   67.891574  generation_gwh_2016\n",
       "7   65.197402  generation_gwh_2017\n",
       "8   67.287130  generation_gwh_2018"
      ]
     },
     "execution_count": 65,
     "metadata": {},
     "output_type": "execute_result"
    }
   ],
   "source": [
    "from statsmodels.stats.outliers_influence import variance_inflation_factor\n",
    "vif=pd.DataFrame()\n",
    "vif[\"VIF values\"]=[variance_inflation_factor(x.values,i)for i in range(len(x.columns))]\n",
    "vif[\"Features\"]=x.columns\n",
    "vif"
   ]
  },
  {
   "cell_type": "code",
   "execution_count": 66,
   "id": "cec9710e",
   "metadata": {},
   "outputs": [],
   "source": [
    "# Dropping column\n",
    "x.drop(['generation_gwh_2014','generation_gwh_2015','generation_gwh_2017'],axis=1,inplace=True)"
   ]
  },
  {
   "cell_type": "markdown",
   "id": "a0273700",
   "metadata": {},
   "source": [
    "# finding the best random state"
   ]
  },
  {
   "cell_type": "code",
   "execution_count": 67,
   "id": "2a949b88",
   "metadata": {},
   "outputs": [],
   "source": [
    "from sklearn.model_selection import train_test_split\n",
    "from sklearn.metrics import mean_absolute_error\n",
    "from sklearn.metrics import mean_squared_error\n",
    "from sklearn.metrics import r2_score\n",
    "from sklearn.ensemble import GradientBoostingRegressor\n",
    "from sklearn.linear_model import LinearRegression"
   ]
  },
  {
   "cell_type": "code",
   "execution_count": 68,
   "id": "50a4b0de",
   "metadata": {},
   "outputs": [
    {
     "name": "stdout",
     "output_type": "stream",
     "text": [
      " Maximum r2 score is 0.3802452813188161 on random_state 57\n"
     ]
    }
   ],
   "source": [
    "maxAccu=0        \n",
    "maxRS=0           \n",
    "for i in range(1,200):\n",
    "    x_train,x_test,y_train,y_test=train_test_split(x,y,test_size=0.30,random_state=i)\n",
    "    lr=LinearRegression()\n",
    "    lr.fit(x_train,y_train)\n",
    "    pred=lr.predict(x_test)\n",
    "    acc=r2_score(y_test,pred)\n",
    "    if acc>maxAccu:\n",
    "        maxAccu=acc\n",
    "        maxRS=i\n",
    "print(\" Maximum r2 score is\",maxAccu,\"on random_state\",maxRS)"
   ]
  },
  {
   "cell_type": "markdown",
   "id": "530205ad",
   "metadata": {},
   "source": [
    "# creating train test split"
   ]
  },
  {
   "cell_type": "code",
   "execution_count": 69,
   "id": "5c032ba8",
   "metadata": {},
   "outputs": [],
   "source": [
    "x_train,x_test,y_train,y_test= train_test_split(x,y,test_size=0.30,random_state=maxRS)"
   ]
  },
  {
   "cell_type": "markdown",
   "id": "b050c535",
   "metadata": {},
   "source": [
    "# Modelling"
   ]
  },
  {
   "cell_type": "code",
   "execution_count": 70,
   "id": "f3c7d463",
   "metadata": {},
   "outputs": [],
   "source": [
    "import numpy as np\n",
    "from sklearn.linear_model import LinearRegression\n",
    "from sklearn.ensemble import RandomForestRegressor\n",
    "from sklearn.tree import DecisionTreeRegressor\n",
    "from sklearn.neighbors import KNeighborsRegressor as KNN\n",
    "from sklearn.linear_model import Lasso,Ridge\n",
    "from sklearn.ensemble import ExtraTreesRegressor,GradientBoostingRegressor"
   ]
  },
  {
   "cell_type": "code",
   "execution_count": 71,
   "id": "afe0699a",
   "metadata": {},
   "outputs": [
    {
     "name": "stdout",
     "output_type": "stream",
     "text": [
      "R2 score: 0.3802452813188161\n",
      "R2_score on training Data: 26.69522493628823\n",
      "Mean absolute error: 6.759340281290147\n",
      "Mean squared error: 73.4125842411118\n",
      "Root Mean absolute error: 8.568114392391818\n"
     ]
    }
   ],
   "source": [
    "lr=LinearRegression()\n",
    "lr.fit(x_train,y_train)\n",
    "pred_lr=lr.predict(x_test)\n",
    "pred_train=lr.predict(x_train)\n",
    "print(\"R2 score:\",r2_score(y_test,pred_lr))\n",
    "print(\"R2_score on training Data:\",r2_score(y_train,pred_train)*100)\n",
    "print(\"Mean absolute error:\",mean_absolute_error(y_test,pred_lr))\n",
    "print(\"Mean squared error:\",mean_squared_error(y_test,pred_lr))\n",
    "print(\"Root Mean absolute error:\",np.sqrt(mean_squared_error(y_test,pred_lr)))"
   ]
  },
  {
   "cell_type": "code",
   "execution_count": 72,
   "id": "f8db050e",
   "metadata": {},
   "outputs": [
    {
     "name": "stdout",
     "output_type": "stream",
     "text": [
      "R2 score: 0.8435902026490669\n",
      "R2_score on training Data: 97.215704131782\n",
      "Mean absolute error: 2.933310622230419\n",
      "Mean squared error: 18.527406210952037\n",
      "Root Mean absolute error: 4.304347361790407\n"
     ]
    }
   ],
   "source": [
    "rfr=RandomForestRegressor()\n",
    "rfr.fit(x_train,y_train)\n",
    "pred_rfr=rfr.predict(x_test)\n",
    "pred_train=rfr.predict(x_train)\n",
    "print(\"R2 score:\",r2_score(y_test,pred_rfr))\n",
    "print(\"R2_score on training Data:\",r2_score(y_train,pred_train)*100)\n",
    "print(\"Mean absolute error:\",mean_absolute_error(y_test,pred_rfr))\n",
    "print(\"Mean squared error:\",mean_squared_error(y_test,pred_rfr))\n",
    "print(\"Root Mean absolute error:\",np.sqrt(mean_squared_error(y_test,pred_rfr)))"
   ]
  },
  {
   "cell_type": "code",
   "execution_count": 73,
   "id": "77810af6",
   "metadata": {},
   "outputs": [
    {
     "name": "stdout",
     "output_type": "stream",
     "text": [
      "R2 score: 0.42816629448580734\n",
      "R2_score on training Data: 58.62544718365111\n",
      "Mean absolute error: 5.553427455112131\n",
      "Mean squared error: 67.73613626903769\n",
      "Root Mean absolute error: 8.230196611809324\n"
     ]
    }
   ],
   "source": [
    "knn=KNN()\n",
    "knn.fit(x_train,y_train)\n",
    "pred_knn=knn.predict(x_test)\n",
    "pred_train=knn.predict(x_train)\n",
    "print(\"R2 score:\",r2_score(y_test,pred_knn))\n",
    "print(\"R2_score on training Data:\",r2_score(y_train,pred_train)*100)\n",
    "print(\"Mean absolute error:\",mean_absolute_error(y_test,pred_knn))\n",
    "print(\"Mean squared error:\",mean_squared_error(y_test,pred_knn))\n",
    "print(\"Root Mean absolute error:\",np.sqrt(mean_squared_error(y_test,pred_knn)))"
   ]
  },
  {
   "cell_type": "code",
   "execution_count": 74,
   "id": "b82f1802",
   "metadata": {},
   "outputs": [
    {
     "name": "stdout",
     "output_type": "stream",
     "text": [
      "R2 score: 0.7889269157558029\n",
      "R2_score on training Data: 93.21023835666864\n",
      "Mean absolute error: 3.275987438918506\n",
      "Mean squared error: 25.002505202513206\n",
      "Root Mean absolute error: 5.000250513975596\n"
     ]
    }
   ],
   "source": [
    "gbr=GradientBoostingRegressor()\n",
    "gbr.fit(x_train,y_train)\n",
    "pred_gbr=gbr.predict(x_test)\n",
    "pred_train=gbr.predict(x_train)\n",
    "print(\"R2 score:\",r2_score(y_test,pred_gbr))\n",
    "print(\"R2_score on training Data:\",r2_score(y_train,pred_train)*100)\n",
    "print(\"Mean absolute error:\",mean_absolute_error(y_test,pred_gbr))\n",
    "print(\"Mean squared error:\",mean_squared_error(y_test,pred_gbr))\n",
    "print(\"Root Mean absolute error:\",np.sqrt(mean_squared_error(y_test,pred_gbr)))"
   ]
  },
  {
   "cell_type": "code",
   "execution_count": 75,
   "id": "9a491bb1",
   "metadata": {},
   "outputs": [
    {
     "name": "stdout",
     "output_type": "stream",
     "text": [
      "R2 score: 0.6795138539630357\n",
      "R2_score on training Data: 100.0\n",
      "Mean absolute error: 3.940768055180855\n",
      "Mean squared error: 37.962948058086674\n",
      "Root Mean absolute error: 6.161407960692643\n"
     ]
    }
   ],
   "source": [
    "dtr=DecisionTreeRegressor()\n",
    "dtr.fit(x_train,y_train)\n",
    "pred_dtr=dtr.predict(x_test)\n",
    "pred_train=dtr.predict(x_train)\n",
    "print(\"R2 score:\",r2_score(y_test,pred_dtr))\n",
    "print(\"R2_score on training Data:\",r2_score(y_train,pred_train)*100)\n",
    "print(\"Mean absolute error:\",mean_absolute_error(y_test,pred_dtr))\n",
    "print(\"Mean squared error:\",mean_squared_error(y_test,pred_dtr))\n",
    "print(\"Root Mean absolute error:\",np.sqrt(mean_squared_error(y_test,pred_dtr)))"
   ]
  },
  {
   "cell_type": "code",
   "execution_count": 76,
   "id": "11ec0bad",
   "metadata": {},
   "outputs": [
    {
     "name": "stdout",
     "output_type": "stream",
     "text": [
      "R2 score: 0.355795520918179\n",
      "R2_score on training Data: 24.489526099673842\n",
      "Mean absolute error: 6.84467972269185\n",
      "Mean squared error: 76.30876242416186\n",
      "Root Mean absolute error: 8.735488676895063\n"
     ]
    }
   ],
   "source": [
    "Lasso=Lasso()\n",
    "Lasso.fit(x_train,y_train)\n",
    "pred_Lasso=Lasso.predict(x_test)\n",
    "pred_train=Lasso.predict(x_train)\n",
    "print(\"R2 score:\",r2_score(y_test,pred_Lasso))\n",
    "print(\"R2_score on training Data:\",r2_score(y_train,pred_train)*100)\n",
    "print(\"Mean absolute error:\",mean_absolute_error(y_test,pred_Lasso))\n",
    "print(\"Mean squared error:\",mean_squared_error(y_test,pred_Lasso))\n",
    "print(\"Root Mean absolute error:\",np.sqrt(mean_squared_error(y_test,pred_Lasso)))"
   ]
  },
  {
   "cell_type": "code",
   "execution_count": 77,
   "id": "575acf1e",
   "metadata": {},
   "outputs": [
    {
     "name": "stdout",
     "output_type": "stream",
     "text": [
      "R2 score: 0.3805693905432562\n",
      "R2_score on training Data: 26.69344583657368\n",
      "Mean absolute error: 6.754391752854936\n",
      "Mean squared error: 73.37419212399624\n",
      "Root Mean absolute error: 8.565873692974712\n"
     ]
    }
   ],
   "source": [
    "rd=Ridge()\n",
    "rd.fit(x_train,y_train)\n",
    "pred_rd=rd.predict(x_test)\n",
    "pred_train=rd.predict(x_train)\n",
    "print(\"R2 score:\",r2_score(y_test,pred_rd))\n",
    "print(\"R2_score on training Data:\",r2_score(y_train,pred_train)*100)\n",
    "print(\"Mean absolute error:\",mean_absolute_error(y_test,pred_rd))\n",
    "print(\"Mean squared error:\",mean_squared_error(y_test,pred_rd))\n",
    "print(\"Root Mean absolute error:\",np.sqrt(mean_squared_error(y_test,pred_rd)))"
   ]
  },
  {
   "cell_type": "code",
   "execution_count": 78,
   "id": "ba2b7bde",
   "metadata": {},
   "outputs": [
    {
     "name": "stdout",
     "output_type": "stream",
     "text": [
      "R2 score: -0.24838440693941743\n",
      "R2_score on training Data: -21.332764961221585\n",
      "Mean absolute error: 7.983957507753031\n",
      "Mean squared error: 147.876446402461\n",
      "Root Mean absolute error: 12.160445978764965\n"
     ]
    }
   ],
   "source": [
    "from sklearn.svm import SVR\n",
    "svr=SVR()\n",
    "svr.fit(x_train,y_train)\n",
    "pred_svr=svr.predict(x_test)\n",
    "pred_train=svr.predict(x_train)\n",
    "print(\"R2 score:\",r2_score(y_test,pred_svr))\n",
    "print(\"R2_score on training Data:\",r2_score(y_train,pred_train)*100)\n",
    "print(\"Mean absolute error:\",mean_absolute_error(y_test,pred_svr))\n",
    "print(\"Mean squared error:\",mean_squared_error(y_test,pred_svr))\n",
    "print(\"Root Mean absolute error:\",np.sqrt(mean_squared_error(y_test,pred_svr)))"
   ]
  },
  {
   "cell_type": "code",
   "execution_count": 79,
   "id": "2b6b8332",
   "metadata": {},
   "outputs": [
    {
     "name": "stdout",
     "output_type": "stream",
     "text": [
      "R2 score: 0.8440781777636333\n",
      "R2_score on training Data: 100.0\n",
      "Mean absolute error: 2.9036321595883314\n",
      "Mean squared error: 18.46960348170151\n",
      "Root Mean absolute error: 4.2976276574060615\n"
     ]
    }
   ],
   "source": [
    "etr=ExtraTreesRegressor()\n",
    "etr.fit(x_train,y_train)\n",
    "pred_etr=etr.predict(x_test)\n",
    "pred_train=etr.predict(x_train)\n",
    "print(\"R2 score:\",r2_score(y_test,pred_etr))\n",
    "print(\"R2_score on training Data:\",r2_score(y_train,pred_train)*100)\n",
    "print(\"Mean absolute error:\",mean_absolute_error(y_test,pred_etr))\n",
    "print(\"Mean squared error:\",mean_squared_error(y_test,pred_etr))\n",
    "print(\"Root Mean absolute error:\",np.sqrt(mean_squared_error(y_test,pred_etr)))"
   ]
  },
  {
   "cell_type": "code",
   "execution_count": 80,
   "id": "bcda9a13",
   "metadata": {},
   "outputs": [],
   "source": [
    "from sklearn.model_selection import cross_val_score"
   ]
  },
  {
   "cell_type": "code",
   "execution_count": 81,
   "id": "3e626cf9",
   "metadata": {},
   "outputs": [
    {
     "name": "stdout",
     "output_type": "stream",
     "text": [
      "[0.31876502 0.14950467 0.2805423  0.31888459 0.3132747 ]\n",
      "0.2761942560190368\n",
      "Difference between R2 score and cross validation score is 10.405102529977928\n"
     ]
    }
   ],
   "source": [
    "score=cross_val_score(lr,x,y)\n",
    "print(score)\n",
    "print(score.mean())\n",
    "print('Difference between R2 score and cross validation score is',(r2_score(y_test,pred_lr)-score.mean())*100)"
   ]
  },
  {
   "cell_type": "code",
   "execution_count": 82,
   "id": "448fb9c7",
   "metadata": {},
   "outputs": [
    {
     "name": "stdout",
     "output_type": "stream",
     "text": [
      "[0.81674567 0.85352824 0.76736225 0.82473394 0.82872127]\n",
      "0.8182182758602451\n",
      "Difference between R2 score and cross validation score is 2.537192678882183\n"
     ]
    }
   ],
   "source": [
    "score1=cross_val_score(rfr,x,y)\n",
    "print(score1)\n",
    "print(score1.mean())\n",
    "print('Difference between R2 score and cross validation score is',(r2_score(y_test,pred_rfr)-score1.mean())*100)"
   ]
  },
  {
   "cell_type": "code",
   "execution_count": 83,
   "id": "9dd02588",
   "metadata": {},
   "outputs": [
    {
     "name": "stdout",
     "output_type": "stream",
     "text": [
      "[-0.16126759  0.16108378  0.20048149  0.06418285  0.13873568]\n",
      "0.08064324146581761\n",
      "Difference between R2 score and cross validation score is 34.75230530199897\n"
     ]
    }
   ],
   "source": [
    "score2=cross_val_score(knn,x,y)\n",
    "print(score2)\n",
    "print(score2.mean())\n",
    "print('Difference between R2 score and cross validation score is',(r2_score(y_test,pred_knn)-score2.mean())*100)"
   ]
  },
  {
   "cell_type": "code",
   "execution_count": 84,
   "id": "672c7ae9",
   "metadata": {},
   "outputs": [
    {
     "name": "stdout",
     "output_type": "stream",
     "text": [
      "[0.84651728 0.86830208 0.75322122 0.79333027 0.74450896]\n",
      "0.8011759612379276\n",
      "Difference between R2 score and cross validation score is -1.2249045482124687\n"
     ]
    }
   ],
   "source": [
    "score3=cross_val_score(gbr,x,y)\n",
    "print(score3)\n",
    "print(score3.mean())\n",
    "print('Difference between R2 score and cross validation score is',(r2_score(y_test,pred_gbr)-score3.mean())*100)"
   ]
  },
  {
   "cell_type": "code",
   "execution_count": 85,
   "id": "9513075b",
   "metadata": {},
   "outputs": [
    {
     "name": "stdout",
     "output_type": "stream",
     "text": [
      "[0.63022207 0.72292962 0.65021078 0.6488943  0.72458684]\n",
      "0.6753687229378567\n",
      "Difference between R2 score and cross validation score is 0.4145131025178994\n"
     ]
    }
   ],
   "source": [
    "score4=cross_val_score(dtr,x,y)\n",
    "print(score4)\n",
    "print(score4.mean())\n",
    "print('Difference between R2 score and cross validation score is',(r2_score(y_test,pred_dtr)-score4.mean())*100)"
   ]
  },
  {
   "cell_type": "code",
   "execution_count": 86,
   "id": "cda2ed52",
   "metadata": {},
   "outputs": [
    {
     "name": "stdout",
     "output_type": "stream",
     "text": [
      "[0.27739418 0.16915745 0.25134978 0.29269444 0.33329372]\n",
      "0.2647779132579486\n",
      "Difference between R2 score and cross validation score is 9.101760766023043\n"
     ]
    }
   ],
   "source": [
    "score5=cross_val_score(Lasso,x,y)\n",
    "print(score5)\n",
    "print(score5.mean())\n",
    "print('Difference between R2 score and cross validation score is',(r2_score(y_test,pred_Lasso)-score5.mean())*100)"
   ]
  },
  {
   "cell_type": "code",
   "execution_count": 87,
   "id": "21f937db",
   "metadata": {},
   "outputs": [
    {
     "name": "stdout",
     "output_type": "stream",
     "text": [
      "[0.31815686 0.15065908 0.28007558 0.31874191 0.31483059]\n",
      "0.27649280581708213\n",
      "Difference between R2 score and cross validation score is 10.40765847261741\n"
     ]
    }
   ],
   "source": [
    "score6=cross_val_score(rd,x,y)\n",
    "print(score6)\n",
    "print(score6.mean())\n",
    "print('Difference between R2 score and cross validation score is',(r2_score(y_test,pred_rd)-score6.mean())*100)"
   ]
  },
  {
   "cell_type": "code",
   "execution_count": 88,
   "id": "1c923c92",
   "metadata": {},
   "outputs": [
    {
     "name": "stdout",
     "output_type": "stream",
     "text": [
      "[-0.23186356 -0.19665023 -0.18650398 -0.35839519 -0.14169862]\n",
      "-0.22302231429227884\n",
      "Difference between R2 score and cross validation score is -2.5362092647138597\n"
     ]
    }
   ],
   "source": [
    "score7=cross_val_score(svr,x,y)\n",
    "print(score7)\n",
    "print(score7.mean())\n",
    "print('Difference between R2 score and cross validation score is',(r2_score(y_test,pred_svr)-score7.mean())*100)"
   ]
  },
  {
   "cell_type": "code",
   "execution_count": 89,
   "id": "d4ade178",
   "metadata": {},
   "outputs": [
    {
     "name": "stdout",
     "output_type": "stream",
     "text": [
      "[0.85364655 0.83865976 0.7771022  0.85409066 0.81441063]\n",
      "0.8275819600782347\n",
      "Difference between R2 score and cross validation score is 1.649621768539855\n"
     ]
    }
   ],
   "source": [
    "score8=cross_val_score(etr,x,y)\n",
    "print(score8)\n",
    "print(score8.mean())\n",
    "print('Difference between R2 score and cross validation score is',(r2_score(y_test,pred_etr)-score8.mean())*100)"
   ]
  },
  {
   "cell_type": "markdown",
   "id": "c7cc33b2",
   "metadata": {},
   "source": [
    "Decisiontree regressor is our best model"
   ]
  },
  {
   "cell_type": "code",
   "execution_count": 90,
   "id": "301084f2",
   "metadata": {},
   "outputs": [],
   "source": [
    "from sklearn.model_selection import GridSearchCV\n",
    "\n",
    "parameters={\n",
    "           'n_estimators': [100, 200],\n",
    "    'max_depth': [3, 5,None],\n",
    "    'min_samples_split': [2, 4],\n",
    "    'min_samples_leaf': [1, 2]}"
   ]
  },
  {
   "cell_type": "code",
   "execution_count": 91,
   "id": "2adbe999",
   "metadata": {},
   "outputs": [],
   "source": [
    "GCV=GridSearchCV(RandomForestRegressor(),parameters,cv=5) "
   ]
  },
  {
   "cell_type": "code",
   "execution_count": 92,
   "id": "80937117",
   "metadata": {},
   "outputs": [
    {
     "data": {
      "text/plain": [
       "GridSearchCV(cv=5, estimator=RandomForestRegressor(),\n",
       "             param_grid={'max_depth': [3, 5, None], 'min_samples_leaf': [1, 2],\n",
       "                         'min_samples_split': [2, 4],\n",
       "                         'n_estimators': [100, 200]})"
      ]
     },
     "execution_count": 92,
     "metadata": {},
     "output_type": "execute_result"
    }
   ],
   "source": [
    "GCV.fit(x_train,y_train)"
   ]
  },
  {
   "cell_type": "code",
   "execution_count": 93,
   "id": "2d530838",
   "metadata": {},
   "outputs": [
    {
     "data": {
      "text/plain": [
       "{'max_depth': None,\n",
       " 'min_samples_leaf': 2,\n",
       " 'min_samples_split': 2,\n",
       " 'n_estimators': 100}"
      ]
     },
     "execution_count": 93,
     "metadata": {},
     "output_type": "execute_result"
    }
   ],
   "source": [
    "GCV.best_params_"
   ]
  },
  {
   "cell_type": "code",
   "execution_count": 94,
   "id": "7af490f4",
   "metadata": {},
   "outputs": [
    {
     "name": "stdout",
     "output_type": "stream",
     "text": [
      "R2 score: -0.18420785484125224\n",
      "Mean absolute error: 9.23771907616981\n",
      "Mean squared error: 140.27446065681588\n",
      "Root Mean absolute error: 11.843751967042195\n"
     ]
    }
   ],
   "source": [
    "final_model=RandomForestRegressor(max_depth=None,\n",
    "    min_samples_split=2,\n",
    "    min_samples_leaf=2,\n",
    "    n_estimators= 200)\n",
    "final_model.fit(x_train,y_train)\n",
    "Pred=final_model.predict(x_test)\n",
    "print(\"R2 score:\",r2_score(y_test,pred))\n",
    "print(\"Mean absolute error:\",mean_absolute_error(y_test,pred))\n",
    "print(\"Mean squared error:\",mean_squared_error(y_test,pred))\n",
    "print(\"Root Mean absolute error:\",np.sqrt(mean_squared_error(y_test,pred)))"
   ]
  },
  {
   "cell_type": "markdown",
   "id": "aab14ef4",
   "metadata": {},
   "source": [
    "# saving the model"
   ]
  },
  {
   "cell_type": "code",
   "execution_count": 95,
   "id": "9e18d86b",
   "metadata": {},
   "outputs": [],
   "source": [
    "import pickle\n",
    "file=\"Gobalpowerplantcapacity.pkl\"\n",
    "pickle.dump(final_model,open(file,'wb'))"
   ]
  },
  {
   "cell_type": "markdown",
   "id": "61dfcea0",
   "metadata": {},
   "source": [
    "# predicting by using the saved model"
   ]
  },
  {
   "cell_type": "code",
   "execution_count": 96,
   "id": "e39cdc39",
   "metadata": {},
   "outputs": [
    {
     "name": "stdout",
     "output_type": "stream",
     "text": [
      "85.87157531922222\n"
     ]
    }
   ],
   "source": [
    "import pickle\n",
    "model=pickle.load(open(\"Gobalpowerplantcapacity.pkl\",'rb'))\n",
    "\n",
    "# predictions\n",
    "prediction=model.score(x_test,y_test)\n",
    "print(prediction*100)"
   ]
  },
  {
   "cell_type": "markdown",
   "id": "2c0ea72d",
   "metadata": {},
   "source": [
    "# check how my model is behaving"
   ]
  },
  {
   "cell_type": "code",
   "execution_count": 97,
   "id": "aa5c1200",
   "metadata": {},
   "outputs": [
    {
     "data": {
      "text/html": [
       "<div>\n",
       "<style scoped>\n",
       "    .dataframe tbody tr th:only-of-type {\n",
       "        vertical-align: middle;\n",
       "    }\n",
       "\n",
       "    .dataframe tbody tr th {\n",
       "        vertical-align: top;\n",
       "    }\n",
       "\n",
       "    .dataframe thead th {\n",
       "        text-align: right;\n",
       "    }\n",
       "</style>\n",
       "<table border=\"1\" class=\"dataframe\">\n",
       "  <thead>\n",
       "    <tr style=\"text-align: right;\">\n",
       "      <th></th>\n",
       "      <th>0</th>\n",
       "      <th>1</th>\n",
       "      <th>2</th>\n",
       "      <th>3</th>\n",
       "      <th>4</th>\n",
       "      <th>5</th>\n",
       "      <th>6</th>\n",
       "      <th>7</th>\n",
       "      <th>8</th>\n",
       "      <th>9</th>\n",
       "      <th>...</th>\n",
       "      <th>254</th>\n",
       "      <th>255</th>\n",
       "      <th>256</th>\n",
       "      <th>257</th>\n",
       "      <th>258</th>\n",
       "      <th>259</th>\n",
       "      <th>260</th>\n",
       "      <th>261</th>\n",
       "      <th>262</th>\n",
       "      <th>263</th>\n",
       "    </tr>\n",
       "  </thead>\n",
       "  <tbody>\n",
       "    <tr>\n",
       "      <th>Predicted_capacity</th>\n",
       "      <td>7.559122</td>\n",
       "      <td>11.794084</td>\n",
       "      <td>4.740131</td>\n",
       "      <td>3.071932</td>\n",
       "      <td>2.927948</td>\n",
       "      <td>3.480953</td>\n",
       "      <td>5.642146</td>\n",
       "      <td>3.874642</td>\n",
       "      <td>22.352360</td>\n",
       "      <td>6.546727</td>\n",
       "      <td>...</td>\n",
       "      <td>3.390474</td>\n",
       "      <td>20.975120</td>\n",
       "      <td>4.487183</td>\n",
       "      <td>7.325480</td>\n",
       "      <td>10.120104</td>\n",
       "      <td>18.392909</td>\n",
       "      <td>5.458618</td>\n",
       "      <td>8.033379</td>\n",
       "      <td>21.993076</td>\n",
       "      <td>10.780098</td>\n",
       "    </tr>\n",
       "    <tr>\n",
       "      <th>Original_capacity</th>\n",
       "      <td>7.141428</td>\n",
       "      <td>7.745967</td>\n",
       "      <td>4.449719</td>\n",
       "      <td>1.732051</td>\n",
       "      <td>2.236068</td>\n",
       "      <td>2.121320</td>\n",
       "      <td>3.162278</td>\n",
       "      <td>3.162278</td>\n",
       "      <td>15.491933</td>\n",
       "      <td>7.745967</td>\n",
       "      <td>...</td>\n",
       "      <td>6.324555</td>\n",
       "      <td>34.641016</td>\n",
       "      <td>3.240370</td>\n",
       "      <td>5.477226</td>\n",
       "      <td>10.281051</td>\n",
       "      <td>21.447611</td>\n",
       "      <td>10.000000</td>\n",
       "      <td>7.745967</td>\n",
       "      <td>22.360680</td>\n",
       "      <td>3.937004</td>\n",
       "    </tr>\n",
       "  </tbody>\n",
       "</table>\n",
       "<p>2 rows × 264 columns</p>\n",
       "</div>"
      ],
      "text/plain": [
       "                         0          1         2         3         4    \\\n",
       "Predicted_capacity  7.559122  11.794084  4.740131  3.071932  2.927948   \n",
       "Original_capacity   7.141428   7.745967  4.449719  1.732051  2.236068   \n",
       "\n",
       "                         5         6         7          8         9    ...  \\\n",
       "Predicted_capacity  3.480953  5.642146  3.874642  22.352360  6.546727  ...   \n",
       "Original_capacity   2.121320  3.162278  3.162278  15.491933  7.745967  ...   \n",
       "\n",
       "                         254        255       256       257        258  \\\n",
       "Predicted_capacity  3.390474  20.975120  4.487183  7.325480  10.120104   \n",
       "Original_capacity   6.324555  34.641016  3.240370  5.477226  10.281051   \n",
       "\n",
       "                          259        260       261        262        263  \n",
       "Predicted_capacity  18.392909   5.458618  8.033379  21.993076  10.780098  \n",
       "Original_capacity   21.447611  10.000000  7.745967  22.360680   3.937004  \n",
       "\n",
       "[2 rows x 264 columns]"
      ]
     },
     "execution_count": 97,
     "metadata": {},
     "output_type": "execute_result"
    }
   ],
   "source": [
    "conclu=pd.DataFrame([model.predict(x_test)[:],y_test[:]],index=[\"Predicted_capacity\",\"Original_capacity\"])\n",
    "conclu"
   ]
  },
  {
   "cell_type": "code",
   "execution_count": null,
   "id": "88ef1ee9",
   "metadata": {},
   "outputs": [],
   "source": []
  }
 ],
 "metadata": {
  "kernelspec": {
   "display_name": "Python 3 (ipykernel)",
   "language": "python",
   "name": "python3"
  },
  "language_info": {
   "codemirror_mode": {
    "name": "ipython",
    "version": 3
   },
   "file_extension": ".py",
   "mimetype": "text/x-python",
   "name": "python",
   "nbconvert_exporter": "python",
   "pygments_lexer": "ipython3",
   "version": "3.9.13"
  }
 },
 "nbformat": 4,
 "nbformat_minor": 5
}
